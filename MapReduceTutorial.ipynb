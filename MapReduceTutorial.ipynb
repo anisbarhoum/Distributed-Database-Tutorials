{
  "cells": [
    {
      "cell_type": "markdown",
      "metadata": {
        "id": "xq-yofXMJxC6"
      },
      "source": [
        "# **MapReduce**"
      ]
    },
    {
      "cell_type": "markdown",
      "metadata": {
        "id": "jQs3hRC1NsFW"
      },
      "source": [
        "# Python MRJob"
      ]
    },
    {
      "cell_type": "markdown",
      "metadata": {
        "id": "EF2fgjFav8kQ"
      },
      "source": [
        "MRjob lets you write MapReduce jobs in Python 2.7/3.4+ and run them on several platforms.\n",
        "\n",
        "* Write multi-step MapReduce jobs in pure Python\n",
        "* Test on your local machine\n",
        "* Run on a Hadoop cluster"
      ]
    },
    {
      "cell_type": "markdown",
      "source": [
        "To get started, install 'mrjob' with pip:"
      ],
      "metadata": {
        "id": "Uw6XDS5zYhBR"
      }
    },
    {
      "cell_type": "code",
      "execution_count": 1,
      "metadata": {
        "colab": {
          "base_uri": "https://localhost:8080/"
        },
        "id": "sUzH6Z0ku3j3",
        "outputId": "53b4fc57-2b9f-45cf-e706-3ca3e7d6c784"
      },
      "outputs": [
        {
          "output_type": "stream",
          "name": "stdout",
          "text": [
            "Collecting mrjob\n",
            "  Downloading mrjob-0.7.4-py2.py3-none-any.whl.metadata (7.3 kB)\n",
            "Requirement already satisfied: PyYAML>=3.10 in /usr/local/lib/python3.11/dist-packages (from mrjob) (6.0.2)\n",
            "Downloading mrjob-0.7.4-py2.py3-none-any.whl (439 kB)\n",
            "\u001b[2K   \u001b[90m━━━━━━━━━━━━━━━━━━━━━━━━━━━━━━━━━━━━━━━━\u001b[0m \u001b[32m439.6/439.6 kB\u001b[0m \u001b[31m5.3 MB/s\u001b[0m eta \u001b[36m0:00:00\u001b[0m\n",
            "\u001b[?25hInstalling collected packages: mrjob\n",
            "Successfully installed mrjob-0.7.4\n"
          ]
        }
      ],
      "source": [
        "!pip install mrjob"
      ]
    },
    {
      "cell_type": "markdown",
      "metadata": {
        "id": "eBR-Qp66nRpy"
      },
      "source": [
        "## Example file - Deli by Ice Spice (CLEAN) lyrics"
      ]
    },
    {
      "cell_type": "code",
      "execution_count": 18,
      "metadata": {
        "scrolled": true,
        "colab": {
          "base_uri": "https://localhost:8080/"
        },
        "id": "OV2ApnxvnRpy",
        "outputId": "02ab7e53-c86f-47f2-d246-9145dd2d4bdc"
      },
      "outputs": [
        {
          "output_type": "stream",
          "name": "stdout",
          "text": [
            "Grrah (Grrah, grrah, grrah)\n",
            "Grrah (Grrah, grrah, Grrah)\n",
            "She a baddie, she showin' her hair (Stop playin' with 'em, RIOT)\n",
            "\n",
            "She a baddie, she showin' her hair (She showin' her hair)\n",
            "She shake it like jelly (She shake it like jelly)\n",
            "Hundred bands in Chanely (Hundred bands in Chanely)\n",
            "But I'm still shakin' cake in a deli (But I'm still shakin' cake, grrah, grrah)\n",
            "With my friend gettin' deady (With my friend gettin' deady)\n",
            "He like him all friendly (He like him all friendly)\n"
          ]
        }
      ],
      "source": [
        "with open('Deli_IceSpice.txt') as file:\n",
        "    lyrics = file.readlines() # Load the lines into a list\n",
        "\n",
        "for line in lyrics[:10]:\n",
        "    print(line.replace(\"\\n\", \"\")) # Print the first 10 lines"
      ]
    },
    {
      "cell_type": "markdown",
      "metadata": {
        "id": "A4r63jv2OFkb"
      },
      "source": [
        "## **Use Case 1**: Frequency Count"
      ]
    },
    {
      "cell_type": "code",
      "execution_count": 19,
      "metadata": {
        "colab": {
          "base_uri": "https://localhost:8080/"
        },
        "id": "waF6dcTkz4Vt",
        "outputId": "96eaecf9-612d-4938-9980-2008efb96bfd"
      },
      "outputs": [
        {
          "output_type": "stream",
          "name": "stdout",
          "text": [
            "Overwriting IceSpiceCount.py\n"
          ]
        }
      ],
      "source": [
        "%%file IceSpiceCount.py\n",
        "# ^^^ This means that we are writing the following code to this .py file\n",
        "\n",
        "from mrjob.job import MRJob\n",
        "\n",
        "class MRLinesWordsChars(MRJob): # Creating a class that inherits \"MRJob\"\n",
        "\n",
        "    def mapper(self, _, line): # Defining our own mapper function (Overriding)\n",
        "        yield \"chars\", len(line)\n",
        "        yield \"words\", len(line.split())\n",
        "        yield \"lines\", 1\n",
        "\n",
        "    def reducer(self, key, values): # Defining our own reducer function (Overriding)\n",
        "        yield key, sum(values)\n",
        "\n",
        "if __name__ == '__main__':\n",
        "    MRLinesWordsChars.run()"
      ]
    },
    {
      "cell_type": "code",
      "execution_count": 20,
      "metadata": {
        "colab": {
          "base_uri": "https://localhost:8080/"
        },
        "id": "cKFadk-a2v2g",
        "outputId": "c8c2683c-91a7-47a6-ce67-8d360156af5b"
      },
      "outputs": [
        {
          "output_type": "stream",
          "name": "stdout",
          "text": [
            "\"words\"\t498\n",
            "\"chars\"\t2688\n",
            "\"lines\"\t65\n"
          ]
        }
      ],
      "source": [
        "! python IceSpiceCount.py IceSpiceLyricsClean.txt -q"
      ]
    },
    {
      "cell_type": "markdown",
      "metadata": {
        "id": "TfAwDL2wON14"
      },
      "source": [
        "## **Use Case 2**: Word Count"
      ]
    },
    {
      "cell_type": "code",
      "execution_count": 21,
      "metadata": {
        "colab": {
          "base_uri": "https://localhost:8080/"
        },
        "id": "0hKpc2Wj3gAe",
        "outputId": "6a1aa51c-49af-400f-a0c7-f16902c32397"
      },
      "outputs": [
        {
          "output_type": "stream",
          "name": "stdout",
          "text": [
            "Overwriting IceSpiceWordCount.py\n"
          ]
        }
      ],
      "source": [
        "%%file IceSpiceWordCount.py\n",
        "\n",
        "from mrjob.job import MRJob\n",
        "from mrjob.step import MRStep\n",
        "import re\n",
        "\n",
        "WORD_RE = re.compile(r\"[\\w']+\") # Breaking sentences into words\n",
        "\n",
        "class MRWordFrequencyCount(MRJob):\n",
        "    def mapper(self, _, line):\n",
        "        # yield each word in the line\n",
        "        for word in WORD_RE.findall(line):\n",
        "            yield (word.lower(), 1)\n",
        "\n",
        "    def combiner(self, word, counts):\n",
        "      # Intermidiate Step where we combine words we have seen so far - optimizing the process\n",
        "        yield (word, sum(counts))\n",
        "\n",
        "    def reducer(self, word, counts):\n",
        "        yield word, sum(counts)\n",
        "\n",
        "\n",
        "if __name__ == '__main__':\n",
        "    MRWordFrequencyCount.run()"
      ]
    },
    {
      "cell_type": "code",
      "execution_count": 22,
      "metadata": {
        "colab": {
          "base_uri": "https://localhost:8080/"
        },
        "id": "AB6LcFWM3rjr",
        "outputId": "9a745e96-aa1d-4120-c59e-3c18f3d93643"
      },
      "outputs": [
        {
          "output_type": "stream",
          "name": "stdout",
          "text": [
            "\"ice\"\t2\n",
            "\"icy\"\t1\n",
            "\"if\"\t1\n",
            "\"in\"\t11\n",
            "\"inch\"\t2\n",
            "\"it\"\t6\n",
            "\"jacket\"\t1\n",
            "\"jelly\"\t6\n",
            "\"juice\"\t2\n",
            "\"just\"\t1\n",
            "\"know\"\t4\n",
            "\"like\"\t17\n",
            "\"lil'\"\t1\n",
            "\"loopy\"\t2\n",
            "\"loose\"\t1\n",
            "\"lose\"\t1\n",
            "\"lot\"\t2\n",
            "\"lov\\u0435\"\t1\n",
            "\"love\"\t1\n",
            "\"lucy\"\t1\n",
            "\"me\"\t5\n",
            "\"middle\"\t2\n",
            "\"miss\"\t1\n",
            "\"money\"\t2\n",
            "\"moon\"\t2\n",
            "\"move\"\t1\n",
            "\"much\"\t1\n",
            "\"my\"\t12\n",
            "\"name\"\t1\n",
            "\"not\"\t1\n",
            "\"off\"\t2\n",
            "\"on\"\t3\n",
            "\"out\"\t1\n",
            "\"outside\"\t1\n",
            "\"pack\"\t1\n",
            "\"parted\"\t2\n",
            "\"partner\"\t4\n",
            "\"pass\"\t1\n",
            "\"passenger\"\t1\n",
            "\"perform\"\t1\n",
            "\"personality\"\t1\n",
            "\"petty\"\t4\n",
            "\"phone\"\t1\n",
            "\"pics\"\t1\n",
            "\"pj\"\t1\n",
            "\"playin'\"\t1\n",
            "\"pot\"\t1\n",
            "\"princess\"\t1\n",
            "\"pucci\"\t1\n",
            "\"put\"\t1\n",
            "\"react\"\t1\n",
            "\"real\"\t2\n",
            "\"regular\"\t1\n",
            "\"riot\"\t1\n",
            "\"sad\"\t1\n",
            "\"shake\"\t6\n",
            "\"shakin'\"\t7\n",
            "\"she\"\t17\n",
            "\"shoutout\"\t1\n",
            "\"showin'\"\t8\n",
            "\"singin'\"\t1\n",
            "\"so\"\t2\n",
            "\"song\"\t1\n",
            "\"spot\"\t1\n",
            "\"started\"\t1\n",
            "\"stay\"\t1\n",
            "\"steppin'\"\t1\n",
            "\"still\"\t7\n",
            "\"stop\"\t1\n",
            "\"straight\"\t2\n",
            "\"takin'\"\t1\n",
            "\"that\"\t4\n",
            "\"the\"\t10\n",
            "\"then\"\t2\n",
            "\"they\"\t5\n",
            "\"three\"\t1\n",
            "\"to\"\t10\n",
            "\"too\"\t1\n",
            "\"while\"\t1\n",
            "\"white\"\t1\n",
            "\"with\"\t9\n",
            "\"you\"\t3\n",
            "\"your\"\t1\n",
            "\"'em\"\t1\n",
            "\"'ku\"\t1\n",
            "\"'oot\"\t1\n",
            "\"'ooters\"\t2\n",
            "\"a\"\t11\n",
            "\"actin'\"\t1\n",
            "\"ain't\"\t1\n",
            "\"all\"\t9\n",
            "\"along\"\t1\n",
            "\"always\"\t2\n",
            "\"and\"\t8\n",
            "\"artist\"\t1\n",
            "\"ay\"\t1\n",
            "\"ayo\"\t1\n",
            "\"back\"\t2\n",
            "\"baddest\"\t1\n",
            "\"baddie\"\t4\n",
            "\"baddies\"\t3\n",
            "\"bag\"\t1\n",
            "\"baggin'\"\t4\n",
            "\"bands\"\t6\n",
            "\"be\"\t4\n",
            "\"bee\"\t1\n",
            "\"best\"\t1\n",
            "\"block\"\t1\n",
            "\"bussin'\"\t1\n",
            "\"but\"\t8\n",
            "\"cake\"\t7\n",
            "\"call\"\t1\n",
            "\"cannot\"\t1\n",
            "\"chanely\"\t6\n",
            "\"cookin'\"\t1\n",
            "\"cornflakes\"\t2\n",
            "\"cup\"\t1\n",
            "\"deady\"\t6\n",
            "\"deli\"\t4\n",
            "\"eatin'\"\t2\n",
            "\"emilio\"\t1\n",
            "\"feelin'\"\t3\n",
            "\"flow\"\t1\n",
            "\"forty\"\t2\n",
            "\"friend\"\t7\n",
            "\"friendly\"\t6\n",
            "\"friends\"\t5\n",
            "\"from\"\t1\n",
            "\"get\"\t4\n",
            "\"gettin'\"\t8\n",
            "\"girl\"\t1\n",
            "\"go\"\t1\n",
            "\"goin'\"\t3\n",
            "\"got\"\t3\n",
            "\"great\"\t1\n",
            "\"grrah\"\t34\n",
            "\"h\\u0435\"\t1\n",
            "\"hair\"\t7\n",
            "\"happy\"\t1\n",
            "\"hardest\"\t1\n",
            "\"hatin'\"\t1\n",
            "\"he\"\t8\n",
            "\"hearted\"\t1\n",
            "\"her\"\t8\n",
            "\"him\"\t6\n",
            "\"his\"\t5\n",
            "\"hot\"\t1\n",
            "\"how\"\t2\n",
            "\"hundred\"\t7\n",
            "\"i\"\t6\n",
            "\"i'm\"\t21\n",
            "\"i'ma\"\t2\n"
          ]
        }
      ],
      "source": [
        "! python IceSpiceWordCount.py IceSpiceLyricsClean.txt -q"
      ]
    },
    {
      "cell_type": "markdown",
      "source": [
        "## **Exercise 1**: How many times does Ice Spice say \"Grrah\" in the song 'Deli'?"
      ],
      "metadata": {
        "id": "IdYnLcyehgK3"
      }
    },
    {
      "cell_type": "markdown",
      "source": [
        "Write an MRJob scrip that will find out how many times Ice Spice says 'grrah' in the song Deli.\n",
        "\n",
        "Do it in an efficient manner - think where is the best stage for filtering? (in this case)"
      ],
      "metadata": {
        "id": "RsZm7gFAhwYq"
      }
    },
    {
      "cell_type": "code",
      "source": [
        "# Your Solution Here"
      ],
      "metadata": {
        "id": "Eu0z0hjjiAoR"
      },
      "execution_count": null,
      "outputs": []
    },
    {
      "cell_type": "markdown",
      "source": [
        "### Solution: (DONT PEAK BEFORE YOU TRY!)"
      ],
      "metadata": {
        "id": "QMythNdXiROQ"
      }
    },
    {
      "cell_type": "code",
      "source": [
        "%%file GrrahCount.py\n",
        "\n",
        "from mrjob.job import MRJob\n",
        "from mrjob.step import MRStep\n",
        "import re\n",
        "\n",
        "WORD_RE = re.compile(r\"[\\w']+\")\n",
        "\n",
        "class MRGrrahFrequencyCount(MRJob):\n",
        "    def mapper(self, _, line):\n",
        "        for word in WORD_RE.findall(line):\n",
        "          if word.lower() == \"grrah\": # FILTERRING FOR GRRAH\n",
        "            yield (word.lower(), 1)\n",
        "\n",
        "    def combiner(self, word, counts):\n",
        "        yield (word, sum(counts))\n",
        "\n",
        "    def reducer(self, word, counts):\n",
        "        yield word, sum(counts)\n",
        "\n",
        "\n",
        "if __name__ == '__main__':\n",
        "    MRGrrahFrequencyCount.run()"
      ],
      "metadata": {
        "colab": {
          "base_uri": "https://localhost:8080/"
        },
        "id": "lE9vCiQ9iZAb",
        "outputId": "84d2f21a-1c49-4d21-bd09-cde75be1be47"
      },
      "execution_count": 30,
      "outputs": [
        {
          "output_type": "stream",
          "name": "stdout",
          "text": [
            "Overwriting GrrahCount.py\n"
          ]
        }
      ]
    },
    {
      "cell_type": "code",
      "source": [
        "! python GrrahCount.py IceSpiceLyricsClean.txt -q"
      ],
      "metadata": {
        "colab": {
          "base_uri": "https://localhost:8080/"
        },
        "id": "iuXsVRsBi3cJ",
        "outputId": "f065d70a-7a31-4e3e-fc83-e6f2b548257e"
      },
      "execution_count": 31,
      "outputs": [
        {
          "output_type": "stream",
          "name": "stdout",
          "text": [
            "\"grrah\"\t34\n"
          ]
        }
      ]
    },
    {
      "cell_type": "markdown",
      "metadata": {
        "id": "_-dJdF5KOTEr"
      },
      "source": [
        "## **Use Case 3**: Most Used Word"
      ]
    },
    {
      "cell_type": "code",
      "execution_count": 32,
      "metadata": {
        "colab": {
          "base_uri": "https://localhost:8080/"
        },
        "id": "-fA9_CLq-nEp",
        "outputId": "9b8cab41-9ae0-441d-f110-c2ce9ba95a4c"
      },
      "outputs": [
        {
          "output_type": "stream",
          "name": "stdout",
          "text": [
            "Overwriting mr_most_used_word.py\n"
          ]
        }
      ],
      "source": [
        "%%file mr_most_used_word.py\n",
        "\n",
        "from mrjob.job import MRJob\n",
        "from mrjob.step import MRStep\n",
        "import re\n",
        "\n",
        "WORD_RE = re.compile(r\"[\\w']+\")\n",
        "\n",
        "\n",
        "class MRMostUsedWord(MRJob):\n",
        "\n",
        "    def steps(self):\n",
        "      # Overriding the Steps function which lets us run multi-step jobs\n",
        "        return [\n",
        "            MRStep(mapper=self.mapper_get_words,\n",
        "                   combiner=self.combiner_count_words,\n",
        "                   reducer=self.reducer_count_words), # Up until here we had a 'regular' MRJob\n",
        "            MRStep(reducer=self.reducer_find_max_word) # We add another step - finding the maximum\n",
        "        ]\n",
        "\n",
        "    def mapper_get_words(self, _, line):\n",
        "        # yield each word in the line\n",
        "        for word in WORD_RE.findall(line):\n",
        "            yield (word.lower(), 1)\n",
        "\n",
        "    def combiner_count_words(self, word, counts):\n",
        "        # optimization: sum the words we've seen so far\n",
        "        yield (word, sum(counts))\n",
        "\n",
        "    def reducer_count_words(self, word, counts):\n",
        "        # send all (num_occurrences, word) pairs to the same reducer.\n",
        "        # num_occurrences is so we can easily use Python's max() function.\n",
        "        yield None, (sum(counts), word)\n",
        "\n",
        "    # discard the key; it is just None\n",
        "    def reducer_find_max_word(self, _, word_count_pairs):\n",
        "        # each item of word_count_pairs is (count, word),\n",
        "        # so yielding one results in key=counts, value=word\n",
        "        yield max(word_count_pairs)\n",
        "\n",
        "\n",
        "if __name__ == '__main__':\n",
        "    MRMostUsedWord.run()"
      ]
    },
    {
      "cell_type": "code",
      "execution_count": 33,
      "metadata": {
        "colab": {
          "base_uri": "https://localhost:8080/"
        },
        "id": "iTlaV0wV-zKY",
        "outputId": "f71235fe-1e15-4bf8-c004-c09b449e3e2d"
      },
      "outputs": [
        {
          "output_type": "stream",
          "name": "stdout",
          "text": [
            "34\t\"grrah\"\n"
          ]
        }
      ],
      "source": [
        "! python mr_most_used_word.py IceSpiceLyricsClean.txt -q"
      ]
    },
    {
      "cell_type": "markdown",
      "source": [
        "### Exercise 2 will be your lab assignment :)"
      ],
      "metadata": {
        "id": "Yb34KMHej9F9"
      }
    }
  ],
  "metadata": {
    "colab": {
      "provenance": []
    },
    "kernelspec": {
      "display_name": "Python 3",
      "language": "python",
      "name": "python3"
    },
    "language_info": {
      "codemirror_mode": {
        "name": "ipython",
        "version": 3
      },
      "file_extension": ".py",
      "mimetype": "text/x-python",
      "name": "python",
      "nbconvert_exporter": "python",
      "pygments_lexer": "ipython3",
      "version": "3.8.8"
    }
  },
  "nbformat": 4,
  "nbformat_minor": 0
}