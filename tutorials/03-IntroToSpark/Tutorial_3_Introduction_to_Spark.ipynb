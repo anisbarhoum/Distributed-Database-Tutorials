{
  "cells": [
    {
      "cell_type": "markdown",
      "id": "8d1dd32e-423a-4f74-bd2e-ffff7af9d201",
      "metadata": {
        "id": "8d1dd32e-423a-4f74-bd2e-ffff7af9d201"
      },
      "source": [
        "# **Introduction to Spark**\n",
        "\n",
        "❗Note - This is taken from Noam Cohen's [**Spark Course**](https://github.com/cnoam/spark-course/tree/master). Each notebook is accompanied by a [short video](https://panoptotech.cloud.panopto.eu/Panopto/Pages/Viewer.aspx?id=ef346a37-dcee-479c-a5cd-afa800b16489).\n",
        "\n",
        "❗If you want to learn more about the [Spark Architecture](https://panoptotech.cloud.panopto.eu/Panopto/Pages/Viewer.aspx?id=0ab9daf8-d152-4656-b10f-afa800a52e2b)"
      ]
    },
    {
      "cell_type": "markdown",
      "source": [
        "## Initialization"
      ],
      "metadata": {
        "id": "kMgITJkPdoXZ"
      },
      "id": "kMgITJkPdoXZ"
    },
    {
      "cell_type": "markdown",
      "id": "30a2f340-6ebe-4b9a-b401-6081d96a41b1",
      "metadata": {
        "id": "30a2f340-6ebe-4b9a-b401-6081d96a41b1"
      },
      "source": [
        "Whenever we request a Spark session, we either get an existing one or a new one — potentially with any specified configuration changes."
      ]
    },
    {
      "cell_type": "markdown",
      "source": [
        "We're setting up Spark on Google Colab by installing Java and PySpark because Spark is built in Scala and runs on the Java Virtual Machine (JVM)."
      ],
      "metadata": {
        "id": "CIW1Vyteafgv"
      },
      "id": "CIW1Vyteafgv"
    },
    {
      "cell_type": "code",
      "execution_count": 1,
      "id": "QjFdAPflRh7Q",
      "metadata": {
        "colab": {
          "base_uri": "https://localhost:8080/"
        },
        "id": "QjFdAPflRh7Q",
        "collapsed": true,
        "outputId": "23393a33-3864-4520-eea0-c0b499df1d2d"
      },
      "outputs": [
        {
          "output_type": "stream",
          "name": "stdout",
          "text": [
            "openjdk version \"1.8.0_442\"\n",
            "OpenJDK Runtime Environment (build 1.8.0_442-8u442-b06~us1-0ubuntu1~22.04-b06)\n",
            "OpenJDK 64-Bit Server VM (build 25.442-b06, mixed mode)\n"
          ]
        }
      ],
      "source": [
        "# Install PySpark on the Colab machine - code in \"חומר עזר קולאב\" on moodle.\n",
        "!apt-get install openjdk-8-jdk-headless -qq > /dev/null\n",
        "import os\n",
        "os.environ[\"JAVA_HOME\"] = \"/usr/lib/jvm/java-8-openjdk-amd64\"\n",
        "!update-alternatives --set java /usr/lib/jvm/java-8-openjdk-amd64/jre/bin/java\n",
        "!java -version"
      ]
    },
    {
      "cell_type": "markdown",
      "source": [
        "Here, we install PySpark and findspark, which helps locate the PySpark installation on the Google Colab machine."
      ],
      "metadata": {
        "id": "j70S35LJajH9"
      },
      "id": "j70S35LJajH9"
    },
    {
      "cell_type": "code",
      "source": [
        "!pip install --force-reinstall pyspark==3.4\n",
        "!pip install findspark"
      ],
      "metadata": {
        "colab": {
          "base_uri": "https://localhost:8080/"
        },
        "collapsed": true,
        "id": "2wmXjN5HZUIH",
        "outputId": "6052a0f1-2abc-47ce-c95b-6f54cbd9fee1"
      },
      "id": "2wmXjN5HZUIH",
      "execution_count": 2,
      "outputs": [
        {
          "output_type": "stream",
          "name": "stdout",
          "text": [
            "Collecting pyspark==3.4\n",
            "  Using cached pyspark-3.4.0-py2.py3-none-any.whl\n",
            "Collecting py4j==0.10.9.7 (from pyspark==3.4)\n",
            "  Using cached py4j-0.10.9.7-py2.py3-none-any.whl.metadata (1.5 kB)\n",
            "Using cached py4j-0.10.9.7-py2.py3-none-any.whl (200 kB)\n",
            "Installing collected packages: py4j, pyspark\n",
            "  Attempting uninstall: py4j\n",
            "    Found existing installation: py4j 0.10.9.7\n",
            "    Uninstalling py4j-0.10.9.7:\n",
            "      Successfully uninstalled py4j-0.10.9.7\n",
            "  Attempting uninstall: pyspark\n",
            "    Found existing installation: pyspark 3.4.0\n",
            "    Uninstalling pyspark-3.4.0:\n",
            "      Successfully uninstalled pyspark-3.4.0\n",
            "\u001b[31mERROR: pip's dependency resolver does not currently take into account all the packages that are installed. This behaviour is the source of the following dependency conflicts.\n",
            "google-spark-connect 0.5.2 requires pyspark>=3.5, but you have pyspark 3.4.0 which is incompatible.\u001b[0m\u001b[31m\n",
            "\u001b[0mSuccessfully installed py4j-0.10.9.7 pyspark-3.4.0\n",
            "Requirement already satisfied: findspark in /usr/local/lib/python3.11/dist-packages (2.0.1)\n"
          ]
        }
      ]
    },
    {
      "cell_type": "code",
      "execution_count": 3,
      "id": "cce9ab46-b9bf-4630-b323-d992fdc65643",
      "metadata": {
        "id": "cce9ab46-b9bf-4630-b323-d992fdc65643"
      },
      "outputs": [],
      "source": [
        "import pyspark # Importing PySpark (Providing a Python API to work with Spark's Distributed Computing Engine)\n",
        "from pyspark.sql import SparkSession\n",
        "from pyspark.mllib.random import RandomRDDs\n",
        "from pyspark.sql.types import*"
      ]
    },
    {
      "cell_type": "code",
      "execution_count": 4,
      "id": "64bdffb1-2078-4ebb-88d9-d743b8f2225b",
      "metadata": {
        "id": "64bdffb1-2078-4ebb-88d9-d743b8f2225b"
      },
      "outputs": [],
      "source": [
        "spark = SparkSession.builder.appName('Tutorial 3').getOrCreate() # Creating our SparkSession\n",
        "sc = spark.sparkContext\n",
        "# keep only important logs\n",
        "spark.sparkContext.setLogLevel(\"ERROR\")"
      ]
    },
    {
      "cell_type": "code",
      "execution_count": 5,
      "id": "8c8fe4b0-cc95-4557-8342-3b465988e2fb",
      "metadata": {
        "id": "8c8fe4b0-cc95-4557-8342-3b465988e2fb"
      },
      "outputs": [],
      "source": [
        "# ONLY when running in jupyter (NOT IMPORTANT - But basically displays dfs withouth explicitly calling .show())\n",
        "spark.conf.set(\"spark.sql.repl.eagerEval.enabled\", True)"
      ]
    },
    {
      "cell_type": "code",
      "execution_count": 6,
      "id": "2184c3dc-7361-46c5-9fc0-7dba9cf851ec",
      "metadata": {
        "colab": {
          "base_uri": "https://localhost:8080/",
          "height": 222
        },
        "id": "2184c3dc-7361-46c5-9fc0-7dba9cf851ec",
        "outputId": "67e9c369-ba6f-4799-8371-744add4ca17b"
      },
      "outputs": [
        {
          "output_type": "execute_result",
          "data": {
            "text/plain": [
              "<pyspark.sql.session.SparkSession at 0x7df2c8798ad0>"
            ],
            "text/html": [
              "\n",
              "            <div>\n",
              "                <p><b>SparkSession - in-memory</b></p>\n",
              "                \n",
              "        <div>\n",
              "            <p><b>SparkContext</b></p>\n",
              "\n",
              "            <p><a href=\"http://9b78cec60f62:4040\">Spark UI</a></p>\n",
              "\n",
              "            <dl>\n",
              "              <dt>Version</dt>\n",
              "                <dd><code>v3.4.0</code></dd>\n",
              "              <dt>Master</dt>\n",
              "                <dd><code>local[*]</code></dd>\n",
              "              <dt>AppName</dt>\n",
              "                <dd><code>Tutorial 3</code></dd>\n",
              "            </dl>\n",
              "        </div>\n",
              "        \n",
              "            </div>\n",
              "        "
            ]
          },
          "metadata": {},
          "execution_count": 6
        }
      ],
      "source": [
        "# see what version of Spark we are running.\n",
        "spark"
      ]
    },
    {
      "cell_type": "markdown",
      "id": "6597c48c-7ca4-4dcb-a8cd-8730d6ece2bf",
      "metadata": {
        "id": "6597c48c-7ca4-4dcb-a8cd-8730d6ece2bf"
      },
      "source": [
        "You should get something like\n",
        "```\n",
        "SparkSession - in-memory\n",
        "\n",
        "SparkContext\n",
        "\n",
        "Spark UI\n",
        "\n",
        "Version           v3.2.0  << should be at least 3.2.0\n",
        "Master            local[*] << local means Spark is running on one machine, '*' means it uses all the cores in this machine\n",
        "AppName           Tutorial 3\n",
        "```"
      ]
    },
    {
      "cell_type": "code",
      "source": [
        "import os\n",
        "print(f\"SparkContext default Number of partitions: {sc.defaultParallelism}\")\n",
        "print(f\"Number of CPUs in the system: {os.cpu_count()}\")"
      ],
      "metadata": {
        "colab": {
          "base_uri": "https://localhost:8080/"
        },
        "id": "5nNlLLoWAhHa",
        "outputId": "2581b198-3ebd-46d6-9e03-f59f3dd46856"
      },
      "id": "5nNlLLoWAhHa",
      "execution_count": 7,
      "outputs": [
        {
          "output_type": "stream",
          "name": "stdout",
          "text": [
            "SparkContext default Number of partitions: 2\n",
            "Number of CPUs in the system: 2\n"
          ]
        }
      ]
    },
    {
      "cell_type": "markdown",
      "id": "2e70db73-6546-414e-a057-5083e36db0f6",
      "metadata": {
        "id": "2e70db73-6546-414e-a057-5083e36db0f6"
      },
      "source": [
        "The Spark UI is available once the session object is created"
      ]
    },
    {
      "cell_type": "markdown",
      "id": "20b20acd-c32b-4bb2-ac50-05f521f5ff14",
      "metadata": {
        "id": "20b20acd-c32b-4bb2-ac50-05f521f5ff14"
      },
      "source": [
        "ONLY on Local workspace (not on Colab) - Now open this link to see the Spark UI:\n",
        "http://localhost:4040"
      ]
    },
    {
      "cell_type": "markdown",
      "id": "53bc2cc7-5f37-48bb-8f78-c684f98e8cd9",
      "metadata": {
        "id": "53bc2cc7-5f37-48bb-8f78-c684f98e8cd9"
      },
      "source": [
        "## Working with RDDs"
      ]
    },
    {
      "cell_type": "code",
      "execution_count": 8,
      "id": "dac82e43-c645-4ba7-9db5-200359d19bb3",
      "metadata": {
        "colab": {
          "base_uri": "https://localhost:8080/"
        },
        "id": "dac82e43-c645-4ba7-9db5-200359d19bb3",
        "outputId": "29ae701f-1022-4f41-dbb8-fd003b491b10"
      },
      "outputs": [
        {
          "output_type": "stream",
          "name": "stdout",
          "text": [
            "Type: <class 'pyspark.rdd.RDD'>\n",
            "Count: 5\n",
            "Number of partitions in nums RDD: 2\n",
            "Squared: [1, 4, 9, 16, 308025]\n"
          ]
        }
      ],
      "source": [
        "# parallelize() will copy the python object to the JVM, then cut it into partitions according to some rule,\n",
        "# and then send the partitions to the worker nodes for processing.\n",
        "\n",
        "nums = sc.parallelize([1, 2, 3, 4, 555])\n",
        "print('Type:', type(nums))\n",
        "print('Count:', nums.count())\n",
        "print(f\"Number of partitions in nums RDD: {nums.getNumPartitions()}\")\n",
        "\n",
        "# each node runs the map() on the partitions it has.\n",
        "# The collect() collects all the results (partitions of the result RDD) to the driver node,\n",
        "# Then copies the data from the JVM to the python process.\n",
        "\n",
        "print('Squared:', nums.map(lambda x: x**2).collect())"
      ]
    },
    {
      "cell_type": "code",
      "execution_count": 9,
      "id": "cc312850-3ad2-4f88-bdd5-93ea90bce425",
      "metadata": {
        "id": "cc312850-3ad2-4f88-bdd5-93ea90bce425"
      },
      "outputs": [],
      "source": [
        "# Generate a random double RDD that contains 1 million i.i.d. values drawn from the\n",
        "# standard normal distribution `N(0, 1)`, evenly distributed in 10 partitions.\n",
        "\n",
        "u = RandomRDDs.normalRDD(spark, 1000000, 10)\n",
        "u = u.map(lambda x: (x,)) # convert to tuple so we can transorm into DF"
      ]
    },
    {
      "cell_type": "markdown",
      "id": "45b99cfd-c0a7-4325-b328-1ca1c07d74b0",
      "metadata": {
        "id": "45b99cfd-c0a7-4325-b328-1ca1c07d74b0"
      },
      "source": [
        "## Working with Dataframes\n"
      ]
    },
    {
      "cell_type": "code",
      "execution_count": 10,
      "id": "a09f57bd-1ea0-4a96-9c1f-8973e659b7f2",
      "metadata": {
        "id": "a09f57bd-1ea0-4a96-9c1f-8973e659b7f2"
      },
      "outputs": [],
      "source": [
        "schema = StructType([  StructField('c1', FloatType(), False)])\n",
        "# we can move from RDD to Dataframe and back.\n",
        "df = spark.createDataFrame(u, schema)"
      ]
    },
    {
      "cell_type": "code",
      "execution_count": 11,
      "id": "e530eebb-f88f-44a7-8419-e4c252f60a87",
      "metadata": {
        "colab": {
          "base_uri": "https://localhost:8080/"
        },
        "id": "e530eebb-f88f-44a7-8419-e4c252f60a87",
        "outputId": "6ab3d222-1fdf-48ed-9598-d3da934eefd5"
      },
      "outputs": [
        {
          "output_type": "stream",
          "name": "stdout",
          "text": [
            "root\n",
            " |-- c1: float (nullable = false)\n",
            "\n",
            "+-----------+\n",
            "|         c1|\n",
            "+-----------+\n",
            "| -1.3167918|\n",
            "| 0.32184425|\n",
            "|  1.2145109|\n",
            "| -1.1810241|\n",
            "|-0.17757528|\n",
            "+-----------+\n",
            "only showing top 5 rows\n",
            "\n"
          ]
        }
      ],
      "source": [
        "# each DF has a schema:\n",
        "df.printSchema()\n",
        "df.show(5)"
      ]
    },
    {
      "cell_type": "code",
      "execution_count": 12,
      "id": "c7ca4883-f2ca-4d77-9c7e-968d679c73ae",
      "metadata": {
        "colab": {
          "base_uri": "https://localhost:8080/",
          "height": 423
        },
        "id": "c7ca4883-f2ca-4d77-9c7e-968d679c73ae",
        "outputId": "9bf4d0ad-edf0-46e6-9e92-f2bbc31780ca"
      },
      "outputs": [
        {
          "output_type": "execute_result",
          "data": {
            "text/plain": [
              "              c1\n",
              "0      -1.316792\n",
              "1       0.321844\n",
              "2       1.214511\n",
              "3      -1.181024\n",
              "4      -0.177575\n",
              "...          ...\n",
              "999995  1.269174\n",
              "999996  1.022593\n",
              "999997 -0.519907\n",
              "999998 -0.431149\n",
              "999999 -0.678287\n",
              "\n",
              "[1000000 rows x 1 columns]"
            ],
            "text/html": [
              "\n",
              "  <div id=\"df-3d8c22cc-708b-4be4-81bb-adf1d2f93c86\" class=\"colab-df-container\">\n",
              "    <div>\n",
              "<style scoped>\n",
              "    .dataframe tbody tr th:only-of-type {\n",
              "        vertical-align: middle;\n",
              "    }\n",
              "\n",
              "    .dataframe tbody tr th {\n",
              "        vertical-align: top;\n",
              "    }\n",
              "\n",
              "    .dataframe thead th {\n",
              "        text-align: right;\n",
              "    }\n",
              "</style>\n",
              "<table border=\"1\" class=\"dataframe\">\n",
              "  <thead>\n",
              "    <tr style=\"text-align: right;\">\n",
              "      <th></th>\n",
              "      <th>c1</th>\n",
              "    </tr>\n",
              "  </thead>\n",
              "  <tbody>\n",
              "    <tr>\n",
              "      <th>0</th>\n",
              "      <td>-1.316792</td>\n",
              "    </tr>\n",
              "    <tr>\n",
              "      <th>1</th>\n",
              "      <td>0.321844</td>\n",
              "    </tr>\n",
              "    <tr>\n",
              "      <th>2</th>\n",
              "      <td>1.214511</td>\n",
              "    </tr>\n",
              "    <tr>\n",
              "      <th>3</th>\n",
              "      <td>-1.181024</td>\n",
              "    </tr>\n",
              "    <tr>\n",
              "      <th>4</th>\n",
              "      <td>-0.177575</td>\n",
              "    </tr>\n",
              "    <tr>\n",
              "      <th>...</th>\n",
              "      <td>...</td>\n",
              "    </tr>\n",
              "    <tr>\n",
              "      <th>999995</th>\n",
              "      <td>1.269174</td>\n",
              "    </tr>\n",
              "    <tr>\n",
              "      <th>999996</th>\n",
              "      <td>1.022593</td>\n",
              "    </tr>\n",
              "    <tr>\n",
              "      <th>999997</th>\n",
              "      <td>-0.519907</td>\n",
              "    </tr>\n",
              "    <tr>\n",
              "      <th>999998</th>\n",
              "      <td>-0.431149</td>\n",
              "    </tr>\n",
              "    <tr>\n",
              "      <th>999999</th>\n",
              "      <td>-0.678287</td>\n",
              "    </tr>\n",
              "  </tbody>\n",
              "</table>\n",
              "<p>1000000 rows × 1 columns</p>\n",
              "</div>\n",
              "    <div class=\"colab-df-buttons\">\n",
              "\n",
              "  <div class=\"colab-df-container\">\n",
              "    <button class=\"colab-df-convert\" onclick=\"convertToInteractive('df-3d8c22cc-708b-4be4-81bb-adf1d2f93c86')\"\n",
              "            title=\"Convert this dataframe to an interactive table.\"\n",
              "            style=\"display:none;\">\n",
              "\n",
              "  <svg xmlns=\"http://www.w3.org/2000/svg\" height=\"24px\" viewBox=\"0 -960 960 960\">\n",
              "    <path d=\"M120-120v-720h720v720H120Zm60-500h600v-160H180v160Zm220 220h160v-160H400v160Zm0 220h160v-160H400v160ZM180-400h160v-160H180v160Zm440 0h160v-160H620v160ZM180-180h160v-160H180v160Zm440 0h160v-160H620v160Z\"/>\n",
              "  </svg>\n",
              "    </button>\n",
              "\n",
              "  <style>\n",
              "    .colab-df-container {\n",
              "      display:flex;\n",
              "      gap: 12px;\n",
              "    }\n",
              "\n",
              "    .colab-df-convert {\n",
              "      background-color: #E8F0FE;\n",
              "      border: none;\n",
              "      border-radius: 50%;\n",
              "      cursor: pointer;\n",
              "      display: none;\n",
              "      fill: #1967D2;\n",
              "      height: 32px;\n",
              "      padding: 0 0 0 0;\n",
              "      width: 32px;\n",
              "    }\n",
              "\n",
              "    .colab-df-convert:hover {\n",
              "      background-color: #E2EBFA;\n",
              "      box-shadow: 0px 1px 2px rgba(60, 64, 67, 0.3), 0px 1px 3px 1px rgba(60, 64, 67, 0.15);\n",
              "      fill: #174EA6;\n",
              "    }\n",
              "\n",
              "    .colab-df-buttons div {\n",
              "      margin-bottom: 4px;\n",
              "    }\n",
              "\n",
              "    [theme=dark] .colab-df-convert {\n",
              "      background-color: #3B4455;\n",
              "      fill: #D2E3FC;\n",
              "    }\n",
              "\n",
              "    [theme=dark] .colab-df-convert:hover {\n",
              "      background-color: #434B5C;\n",
              "      box-shadow: 0px 1px 3px 1px rgba(0, 0, 0, 0.15);\n",
              "      filter: drop-shadow(0px 1px 2px rgba(0, 0, 0, 0.3));\n",
              "      fill: #FFFFFF;\n",
              "    }\n",
              "  </style>\n",
              "\n",
              "    <script>\n",
              "      const buttonEl =\n",
              "        document.querySelector('#df-3d8c22cc-708b-4be4-81bb-adf1d2f93c86 button.colab-df-convert');\n",
              "      buttonEl.style.display =\n",
              "        google.colab.kernel.accessAllowed ? 'block' : 'none';\n",
              "\n",
              "      async function convertToInteractive(key) {\n",
              "        const element = document.querySelector('#df-3d8c22cc-708b-4be4-81bb-adf1d2f93c86');\n",
              "        const dataTable =\n",
              "          await google.colab.kernel.invokeFunction('convertToInteractive',\n",
              "                                                    [key], {});\n",
              "        if (!dataTable) return;\n",
              "\n",
              "        const docLinkHtml = 'Like what you see? Visit the ' +\n",
              "          '<a target=\"_blank\" href=https://colab.research.google.com/notebooks/data_table.ipynb>data table notebook</a>'\n",
              "          + ' to learn more about interactive tables.';\n",
              "        element.innerHTML = '';\n",
              "        dataTable['output_type'] = 'display_data';\n",
              "        await google.colab.output.renderOutput(dataTable, element);\n",
              "        const docLink = document.createElement('div');\n",
              "        docLink.innerHTML = docLinkHtml;\n",
              "        element.appendChild(docLink);\n",
              "      }\n",
              "    </script>\n",
              "  </div>\n",
              "\n",
              "\n",
              "<div id=\"df-6e39f8ae-f756-4ed1-b719-91a9784a555d\">\n",
              "  <button class=\"colab-df-quickchart\" onclick=\"quickchart('df-6e39f8ae-f756-4ed1-b719-91a9784a555d')\"\n",
              "            title=\"Suggest charts\"\n",
              "            style=\"display:none;\">\n",
              "\n",
              "<svg xmlns=\"http://www.w3.org/2000/svg\" height=\"24px\"viewBox=\"0 0 24 24\"\n",
              "     width=\"24px\">\n",
              "    <g>\n",
              "        <path d=\"M19 3H5c-1.1 0-2 .9-2 2v14c0 1.1.9 2 2 2h14c1.1 0 2-.9 2-2V5c0-1.1-.9-2-2-2zM9 17H7v-7h2v7zm4 0h-2V7h2v10zm4 0h-2v-4h2v4z\"/>\n",
              "    </g>\n",
              "</svg>\n",
              "  </button>\n",
              "\n",
              "<style>\n",
              "  .colab-df-quickchart {\n",
              "      --bg-color: #E8F0FE;\n",
              "      --fill-color: #1967D2;\n",
              "      --hover-bg-color: #E2EBFA;\n",
              "      --hover-fill-color: #174EA6;\n",
              "      --disabled-fill-color: #AAA;\n",
              "      --disabled-bg-color: #DDD;\n",
              "  }\n",
              "\n",
              "  [theme=dark] .colab-df-quickchart {\n",
              "      --bg-color: #3B4455;\n",
              "      --fill-color: #D2E3FC;\n",
              "      --hover-bg-color: #434B5C;\n",
              "      --hover-fill-color: #FFFFFF;\n",
              "      --disabled-bg-color: #3B4455;\n",
              "      --disabled-fill-color: #666;\n",
              "  }\n",
              "\n",
              "  .colab-df-quickchart {\n",
              "    background-color: var(--bg-color);\n",
              "    border: none;\n",
              "    border-radius: 50%;\n",
              "    cursor: pointer;\n",
              "    display: none;\n",
              "    fill: var(--fill-color);\n",
              "    height: 32px;\n",
              "    padding: 0;\n",
              "    width: 32px;\n",
              "  }\n",
              "\n",
              "  .colab-df-quickchart:hover {\n",
              "    background-color: var(--hover-bg-color);\n",
              "    box-shadow: 0 1px 2px rgba(60, 64, 67, 0.3), 0 1px 3px 1px rgba(60, 64, 67, 0.15);\n",
              "    fill: var(--button-hover-fill-color);\n",
              "  }\n",
              "\n",
              "  .colab-df-quickchart-complete:disabled,\n",
              "  .colab-df-quickchart-complete:disabled:hover {\n",
              "    background-color: var(--disabled-bg-color);\n",
              "    fill: var(--disabled-fill-color);\n",
              "    box-shadow: none;\n",
              "  }\n",
              "\n",
              "  .colab-df-spinner {\n",
              "    border: 2px solid var(--fill-color);\n",
              "    border-color: transparent;\n",
              "    border-bottom-color: var(--fill-color);\n",
              "    animation:\n",
              "      spin 1s steps(1) infinite;\n",
              "  }\n",
              "\n",
              "  @keyframes spin {\n",
              "    0% {\n",
              "      border-color: transparent;\n",
              "      border-bottom-color: var(--fill-color);\n",
              "      border-left-color: var(--fill-color);\n",
              "    }\n",
              "    20% {\n",
              "      border-color: transparent;\n",
              "      border-left-color: var(--fill-color);\n",
              "      border-top-color: var(--fill-color);\n",
              "    }\n",
              "    30% {\n",
              "      border-color: transparent;\n",
              "      border-left-color: var(--fill-color);\n",
              "      border-top-color: var(--fill-color);\n",
              "      border-right-color: var(--fill-color);\n",
              "    }\n",
              "    40% {\n",
              "      border-color: transparent;\n",
              "      border-right-color: var(--fill-color);\n",
              "      border-top-color: var(--fill-color);\n",
              "    }\n",
              "    60% {\n",
              "      border-color: transparent;\n",
              "      border-right-color: var(--fill-color);\n",
              "    }\n",
              "    80% {\n",
              "      border-color: transparent;\n",
              "      border-right-color: var(--fill-color);\n",
              "      border-bottom-color: var(--fill-color);\n",
              "    }\n",
              "    90% {\n",
              "      border-color: transparent;\n",
              "      border-bottom-color: var(--fill-color);\n",
              "    }\n",
              "  }\n",
              "</style>\n",
              "\n",
              "  <script>\n",
              "    async function quickchart(key) {\n",
              "      const quickchartButtonEl =\n",
              "        document.querySelector('#' + key + ' button');\n",
              "      quickchartButtonEl.disabled = true;  // To prevent multiple clicks.\n",
              "      quickchartButtonEl.classList.add('colab-df-spinner');\n",
              "      try {\n",
              "        const charts = await google.colab.kernel.invokeFunction(\n",
              "            'suggestCharts', [key], {});\n",
              "      } catch (error) {\n",
              "        console.error('Error during call to suggestCharts:', error);\n",
              "      }\n",
              "      quickchartButtonEl.classList.remove('colab-df-spinner');\n",
              "      quickchartButtonEl.classList.add('colab-df-quickchart-complete');\n",
              "    }\n",
              "    (() => {\n",
              "      let quickchartButtonEl =\n",
              "        document.querySelector('#df-6e39f8ae-f756-4ed1-b719-91a9784a555d button');\n",
              "      quickchartButtonEl.style.display =\n",
              "        google.colab.kernel.accessAllowed ? 'block' : 'none';\n",
              "    })();\n",
              "  </script>\n",
              "</div>\n",
              "\n",
              "    </div>\n",
              "  </div>\n"
            ],
            "application/vnd.google.colaboratory.intrinsic+json": {
              "type": "dataframe"
            }
          },
          "metadata": {},
          "execution_count": 12
        }
      ],
      "source": [
        "#Tip: To see the table in nicer format, convert it to Pandas:\n",
        "df.toPandas()"
      ]
    },
    {
      "cell_type": "code",
      "execution_count": 13,
      "id": "b3ff91d1-7f28-459a-82d6-cd6069f35ff2",
      "metadata": {
        "colab": {
          "base_uri": "https://localhost:8080/",
          "height": 173
        },
        "id": "b3ff91d1-7f28-459a-82d6-cd6069f35ff2",
        "outputId": "6ead4793-6531-4f54-e368-fe21a5538475"
      },
      "outputs": [
        {
          "output_type": "execute_result",
          "data": {
            "text/plain": [
              "pyspark.rdd.RDD"
            ],
            "text/html": [
              "<div style=\"max-width:800px; border: 1px solid var(--colab-border-color);\"><style>\n",
              "      pre.function-repr-contents {\n",
              "        overflow-x: auto;\n",
              "        padding: 8px 12px;\n",
              "        max-height: 500px;\n",
              "      }\n",
              "\n",
              "      pre.function-repr-contents.function-repr-contents-collapsed {\n",
              "        cursor: pointer;\n",
              "        max-height: 100px;\n",
              "      }\n",
              "    </style>\n",
              "    <pre style=\"white-space: initial; background:\n",
              "         var(--colab-secondary-surface-color); padding: 8px 12px;\n",
              "         border-bottom: 1px solid var(--colab-border-color);\"><b>pyspark.rdd.RDD</b><br/>def __init__(jrdd: &#x27;JavaObject&#x27;, ctx: &#x27;SparkContext&#x27;, jrdd_deserializer: Serializer=AutoBatchedSerializer(CPickleSerializer()))</pre><pre class=\"function-repr-contents function-repr-contents-collapsed\" style=\"\"><a class=\"filepath\" style=\"display:none\" href=\"#\">/usr/local/lib/python3.11/dist-packages/pyspark/rdd.py</a>A Resilient Distributed Dataset (RDD), the basic abstraction in Spark.\n",
              "Represents an immutable, partitioned collection of elements that can be\n",
              "operated on in parallel.</pre>\n",
              "      <script>\n",
              "      if (google.colab.kernel.accessAllowed && google.colab.files && google.colab.files.view) {\n",
              "        for (const element of document.querySelectorAll('.filepath')) {\n",
              "          element.style.display = 'block'\n",
              "          element.onclick = (event) => {\n",
              "            event.preventDefault();\n",
              "            event.stopPropagation();\n",
              "            google.colab.files.view(element.textContent, 321);\n",
              "          };\n",
              "        }\n",
              "      }\n",
              "      for (const element of document.querySelectorAll('.function-repr-contents')) {\n",
              "        element.onclick = (event) => {\n",
              "          event.preventDefault();\n",
              "          event.stopPropagation();\n",
              "          element.classList.toggle('function-repr-contents-collapsed');\n",
              "        };\n",
              "      }\n",
              "      </script>\n",
              "      </div>"
            ]
          },
          "metadata": {},
          "execution_count": 13
        }
      ],
      "source": [
        "# Get the RDD from the Dataframe\n",
        "r = df.rdd\n",
        "type(r)"
      ]
    },
    {
      "cell_type": "code",
      "execution_count": 14,
      "id": "d2d71802-76f5-4b19-9c58-d13e3daff399",
      "metadata": {
        "colab": {
          "base_uri": "https://localhost:8080/"
        },
        "id": "d2d71802-76f5-4b19-9c58-d13e3daff399",
        "outputId": "4fd512b0-9ac3-4486-dd70-5e718a51f42a"
      },
      "outputs": [
        {
          "output_type": "stream",
          "name": "stdout",
          "text": [
            "root\n",
            " |-- _1: string (nullable = true)\n",
            " |-- _2: long (nullable = true)\n",
            "\n",
            "+---------+---+\n",
            "|       _1| _2|\n",
            "+---------+---+\n",
            "|  Finance| 10|\n",
            "|Marketing| 20|\n",
            "|    Sales| 30|\n",
            "|       IT| 40|\n",
            "+---------+---+\n",
            "\n"
          ]
        }
      ],
      "source": [
        "# Create a simple dataframe\n",
        "dept = [(\"Finance\",10),(\"Marketing\",20),(\"Sales\",30),(\"IT\",40)]\n",
        "rdd = spark.sparkContext.parallelize(dept)\n",
        "\n",
        "df = rdd.toDF()\n",
        "df.printSchema()\n",
        "df.show(truncate=True)"
      ]
    },
    {
      "cell_type": "code",
      "execution_count": 15,
      "id": "d7de19af-3e3d-4ff0-9f2a-d855e2fc5081",
      "metadata": {
        "id": "d7de19af-3e3d-4ff0-9f2a-d855e2fc5081"
      },
      "outputs": [],
      "source": [
        "#  Transformation:\n",
        "# create an array of M numbers\n",
        "# This is fast since it is a TRANSFORMATION.\n",
        "# It is just an execution plan, so if aFalsellocating M numbers\n",
        "# will use all the memory on this machine, we will not see it now.\n",
        "\n",
        "M = 100*1000#*1000\n",
        "\n",
        "myRange = spark.range(M).toDF(\"number\")\n",
        "nums_doubled_df = myRange.selectExpr(\"(number * 2) as value\")"
      ]
    },
    {
      "cell_type": "code",
      "execution_count": 16,
      "id": "032e2805-3167-4d0c-9000-2985f646bfd9",
      "metadata": {
        "colab": {
          "base_uri": "https://localhost:8080/"
        },
        "id": "032e2805-3167-4d0c-9000-2985f646bfd9",
        "outputId": "e542f70b-34bd-4ade-8bb2-5c6bab784bed"
      },
      "outputs": [
        {
          "output_type": "stream",
          "name": "stdout",
          "text": [
            "[Row(value=0), Row(value=2), Row(value=4), Row(value=6), Row(value=8)]\n"
          ]
        }
      ],
      "source": [
        "# Actions:\n",
        "# Collect the dataframe from all worker nodes (the executors) to the driver program.\n",
        "# if this is too large a \"Java heap space exception\" will happen, and then you have to restart your kernel.\n",
        "# Since we use Pyspark, this data is then *copied* from the JVM to the python runtime.\n",
        "\n",
        "print(nums_doubled_df.take(5))"
      ]
    },
    {
      "cell_type": "code",
      "execution_count": 17,
      "id": "de4c7e27-14a6-44da-87e5-687bb71f5d35",
      "metadata": {
        "id": "de4c7e27-14a6-44da-87e5-687bb71f5d35",
        "colab": {
          "base_uri": "https://localhost:8080/"
        },
        "outputId": "d66ef1f6-2a48-4cdd-f144-24af6c9c141e"
      },
      "outputs": [
        {
          "output_type": "execute_result",
          "data": {
            "text/plain": [
              "(list, 100000)"
            ]
          },
          "metadata": {},
          "execution_count": 17
        }
      ],
      "source": [
        "the_big_list = myRange.collect()\n",
        "type(the_big_list), len(the_big_list)"
      ]
    },
    {
      "cell_type": "code",
      "execution_count": 18,
      "id": "5a817d09-771e-406f-b4df-6837e9c87b30",
      "metadata": {
        "colab": {
          "base_uri": "https://localhost:8080/"
        },
        "id": "5a817d09-771e-406f-b4df-6837e9c87b30",
        "outputId": "cade04e4-2d6c-428f-acd1-3882f57b1df9"
      },
      "outputs": [
        {
          "output_type": "stream",
          "name": "stdout",
          "text": [
            "Count:  50000\n",
            "+------+\n",
            "|number|\n",
            "+------+\n",
            "|     0|\n",
            "|     2|\n",
            "|     4|\n",
            "|     6|\n",
            "|     8|\n",
            "|    10|\n",
            "|    12|\n",
            "|    14|\n",
            "+------+\n",
            "only showing top 8 rows\n",
            "\n"
          ]
        }
      ],
      "source": [
        "divisBy2 = myRange.where(\"number % 2 = 0\")\n",
        "print(\"Count: \",divisBy2.count())\n",
        "divisBy2.sort('number').show(8)"
      ]
    },
    {
      "cell_type": "markdown",
      "id": "5f824e6f-daeb-4b64-8dda-1ba0c5111646",
      "metadata": {
        "id": "5f824e6f-daeb-4b64-8dda-1ba0c5111646"
      },
      "source": [
        "## **Example**: Text Processing using RDDs and MapReduce (Counting \"Grrahs\")"
      ]
    },
    {
      "cell_type": "code",
      "execution_count": 19,
      "id": "59dc2172-e9e9-4b0b-b4d1-c6e3b4ea0a6c",
      "metadata": {
        "colab": {
          "base_uri": "https://localhost:8080/"
        },
        "id": "59dc2172-e9e9-4b0b-b4d1-c6e3b4ea0a6c",
        "outputId": "9be9c0d4-40af-46d2-f0fc-5203a2c00314"
      },
      "outputs": [
        {
          "output_type": "stream",
          "name": "stdout",
          "text": [
            "Type: <class 'pyspark.rdd.RDD'>\n",
            "Count (rows): 65\n"
          ]
        }
      ],
      "source": [
        "icespice_rdd = sc.textFile('./IceSpiceLyricsClean.txt')\n",
        "print('Type:', type(icespice_rdd))\n",
        "print('Count (rows):', icespice_rdd.count())"
      ]
    },
    {
      "cell_type": "markdown",
      "id": "69aa2a0c-3cc7-4f51-a4cd-59cd489f9690",
      "metadata": {
        "id": "69aa2a0c-3cc7-4f51-a4cd-59cd489f9690"
      },
      "source": [
        "<hr>"
      ]
    },
    {
      "cell_type": "code",
      "execution_count": 20,
      "id": "cef9499c-ff0b-4dcc-9c91-b83e3fed4205",
      "metadata": {
        "id": "cef9499c-ff0b-4dcc-9c91-b83e3fed4205"
      },
      "outputs": [],
      "source": [
        "import re\n",
        "\n",
        "# Split rows into words AND clean them\n",
        "deli_words = icespice_rdd.flatMap(lambda row: re.findall(r\"\\b\\w+\\b\", row.lower()))\n"
      ]
    },
    {
      "cell_type": "code",
      "execution_count": 21,
      "id": "a004f161-7c77-4af1-9820-c443cf733d37",
      "metadata": {
        "colab": {
          "base_uri": "https://localhost:8080/"
        },
        "id": "a004f161-7c77-4af1-9820-c443cf733d37",
        "outputId": "a3265c71-1305-4f44-bf70-be2717b56057"
      },
      "outputs": [
        {
          "output_type": "execute_result",
          "data": {
            "text/plain": [
              "[('grrah', 34),\n",
              " ('i', 29),\n",
              " ('m', 21),\n",
              " ('like', 17),\n",
              " ('she', 17),\n",
              " ('my', 12),\n",
              " ('a', 11),\n",
              " ('in', 11),\n",
              " ('to', 10),\n",
              " ('the', 10)]"
            ]
          },
          "metadata": {},
          "execution_count": 21
        }
      ],
      "source": [
        "# Top 10 most frequent words:\n",
        "# str.casefold() >= str.lower() (Works also for Unicode)\n",
        "deli_words.map(lambda word: (word.casefold(), 1)) \\\n",
        "        .reduceByKey(lambda a, b: a + b) \\\n",
        "            .sortBy(lambda t: t[1], ascending=False) \\\n",
        "                .take(10)"
      ]
    },
    {
      "cell_type": "code",
      "execution_count": 22,
      "id": "e3f59c0e-88e4-4a7d-a5b1-5bffeed43d77",
      "metadata": {
        "colab": {
          "base_uri": "https://localhost:8080/"
        },
        "id": "e3f59c0e-88e4-4a7d-a5b1-5bffeed43d77",
        "outputId": "192e9814-056b-4eed-c67f-b41da6bacbc4"
      },
      "outputs": [
        {
          "output_type": "execute_result",
          "data": {
            "text/plain": [
              "34"
            ]
          },
          "metadata": {},
          "execution_count": 22
        }
      ],
      "source": [
        "# counting 'baby':\n",
        "deli_words.filter(lambda word: word.lower() == 'grrah').count()"
      ]
    },
    {
      "cell_type": "markdown",
      "source": [
        "Checking we got it right - not using Spark"
      ],
      "metadata": {
        "id": "vpvA6lpJMF-X"
      },
      "id": "vpvA6lpJMF-X"
    },
    {
      "cell_type": "code",
      "source": [
        "# Counting 'grrah' - sanity check - loading into RAM (NOT SPARK!)\n",
        "grrah_count = 0\n",
        "for word in deli_words.take(550): # Load (at most) 550 elements into local variable\n",
        "  if word == 'grrah':\n",
        "    grrah_count += 1\n",
        "print(f'The word \\'grrah\\' has appeared {grrah_count} times in the song')"
      ],
      "metadata": {
        "colab": {
          "base_uri": "https://localhost:8080/"
        },
        "id": "PkKbp_HzhRrg",
        "outputId": "240043aa-832d-405c-a892-fe8ba5d5c0a7"
      },
      "id": "PkKbp_HzhRrg",
      "execution_count": 23,
      "outputs": [
        {
          "output_type": "stream",
          "name": "stdout",
          "text": [
            "The word 'grrah' has appeared 34 times in the song\n"
          ]
        }
      ]
    },
    {
      "cell_type": "markdown",
      "id": "b5cb44d7-773d-447a-8ece-025d4034d8e0",
      "metadata": {
        "id": "b5cb44d7-773d-447a-8ece-025d4034d8e0"
      },
      "source": [
        "# Check yourself"
      ]
    },
    {
      "cell_type": "markdown",
      "id": "8a21f592-c932-4304-9d2d-3780185ac92b",
      "metadata": {
        "id": "8a21f592-c932-4304-9d2d-3780185ac92b"
      },
      "source": [
        "Try to increase M (in the range() above ) by 1000, and run the code again. What do you expect?"
      ]
    }
  ],
  "metadata": {
    "colab": {
      "provenance": []
    },
    "kernelspec": {
      "display_name": "Python 3 (ipykernel)",
      "language": "python",
      "name": "python3"
    },
    "language_info": {
      "codemirror_mode": {
        "name": "ipython",
        "version": 3
      },
      "file_extension": ".py",
      "mimetype": "text/x-python",
      "name": "python",
      "nbconvert_exporter": "python",
      "pygments_lexer": "ipython3",
      "version": "3.9.10"
    }
  },
  "nbformat": 4,
  "nbformat_minor": 5
}