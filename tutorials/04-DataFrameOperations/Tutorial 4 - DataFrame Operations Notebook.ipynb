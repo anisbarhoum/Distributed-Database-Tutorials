{
  "cells": [
    {
      "cell_type": "markdown",
      "id": "914ed86a-9422-40f6-aa26-72858d66075d",
      "metadata": {
        "id": "914ed86a-9422-40f6-aa26-72858d66075d"
      },
      "source": [
        "# DataFrame Operations\n",
        "\n",
        "In this tutorial, we will explore PySpark DataFrames, write queries, and become more familiar with key DataFrame operations.\n",
        "\n",
        "We will work with a synthetically generated dataset of 67,500 rows, called \"noisy_neighbors_reports\", which contains records of noise complaints made in NYC.\n",
        "\n",
        "❗Note: You can watch Noam's video on a **similar** tutorial [here](https://panoptotech.cloud.panopto.eu/Panopto/Pages/Viewer.aspx?id=45909ccc-decb-4a40-95f4-afa8014bbc0f)\n"
      ]
    },
    {
      "cell_type": "markdown",
      "source": [
        "## **Initialization**"
      ],
      "metadata": {
        "id": "OupQLWW6EPoG"
      },
      "id": "OupQLWW6EPoG"
    },
    {
      "cell_type": "markdown",
      "source": [
        "Installing PySpark on the Colab machine"
      ],
      "metadata": {
        "id": "g9vEEHuoDLZu"
      },
      "id": "g9vEEHuoDLZu"
    },
    {
      "cell_type": "code",
      "source": [
        "!apt-get install openjdk-8-jdk-headless -qq > /dev/null\n",
        "import os\n",
        "os.environ[\"JAVA_HOME\"] = \"/usr/lib/jvm/java-8-openjdk-amd64\"\n",
        "!update-alternatives --set java /usr/lib/jvm/java-8-openjdk-amd64/jre/bin/java\n",
        "!java -version"
      ],
      "metadata": {
        "colab": {
          "base_uri": "https://localhost:8080/"
        },
        "id": "QdhsjoSOl1p5",
        "outputId": "1d4bd487-3450-43cb-d3a2-23bec4b8db1f",
        "collapsed": true
      },
      "id": "QdhsjoSOl1p5",
      "execution_count": 1,
      "outputs": [
        {
          "output_type": "stream",
          "name": "stdout",
          "text": [
            "openjdk version \"1.8.0_442\"\n",
            "OpenJDK Runtime Environment (build 1.8.0_442-8u442-b06~us1-0ubuntu1~22.04-b06)\n",
            "OpenJDK 64-Bit Server VM (build 25.442-b06, mixed mode)\n"
          ]
        }
      ]
    },
    {
      "cell_type": "code",
      "source": [
        "!pip install --force-reinstall pyspark==3.4.0\n",
        "!pip install findspark"
      ],
      "metadata": {
        "colab": {
          "base_uri": "https://localhost:8080/"
        },
        "collapsed": true,
        "id": "VYl8ToMVDUyo",
        "outputId": "54a9e827-8df8-4149-82d9-0c5c526ecee7"
      },
      "id": "VYl8ToMVDUyo",
      "execution_count": 2,
      "outputs": [
        {
          "output_type": "stream",
          "name": "stdout",
          "text": [
            "Collecting pyspark==3.4.0\n",
            "  Using cached pyspark-3.4.0-py2.py3-none-any.whl\n",
            "Collecting py4j==0.10.9.7 (from pyspark==3.4.0)\n",
            "  Using cached py4j-0.10.9.7-py2.py3-none-any.whl.metadata (1.5 kB)\n",
            "Using cached py4j-0.10.9.7-py2.py3-none-any.whl (200 kB)\n",
            "Installing collected packages: py4j, pyspark\n",
            "  Attempting uninstall: py4j\n",
            "    Found existing installation: py4j 0.10.9.7\n",
            "    Uninstalling py4j-0.10.9.7:\n",
            "      Successfully uninstalled py4j-0.10.9.7\n",
            "  Attempting uninstall: pyspark\n",
            "    Found existing installation: pyspark 3.4.0\n",
            "    Uninstalling pyspark-3.4.0:\n",
            "      Successfully uninstalled pyspark-3.4.0\n",
            "\u001b[31mERROR: pip's dependency resolver does not currently take into account all the packages that are installed. This behaviour is the source of the following dependency conflicts.\n",
            "google-spark-connect 0.5.3 requires pyspark[connect]>=3.5, but you have pyspark 3.4.0 which is incompatible.\u001b[0m\u001b[31m\n",
            "\u001b[0mSuccessfully installed py4j-0.10.9.7 pyspark-3.4.0\n",
            "Requirement already satisfied: findspark in /usr/local/lib/python3.11/dist-packages (2.0.1)\n"
          ]
        }
      ]
    },
    {
      "cell_type": "markdown",
      "source": [
        "Initializing a Spark Session"
      ],
      "metadata": {
        "id": "98MmmnrDEMmh"
      },
      "id": "98MmmnrDEMmh"
    },
    {
      "cell_type": "code",
      "execution_count": 3,
      "id": "780e03c3-6d21-462a-bcbc-0ce4d2779b5c",
      "metadata": {
        "id": "780e03c3-6d21-462a-bcbc-0ce4d2779b5c"
      },
      "outputs": [],
      "source": [
        "import pyspark\n",
        "from pyspark.sql import SparkSession\n",
        "from pyspark.sql.types import *\n",
        "\n",
        "spark = SparkSession.builder\\\n",
        "  .appName('PySpark Data Processing')\\\n",
        "  .config('spark.ui.port', '4050').getOrCreate()\n",
        "sc = spark.sparkContext"
      ]
    },
    {
      "cell_type": "code",
      "source": [
        "sc"
      ],
      "metadata": {
        "id": "AkJzMfL05cfq",
        "outputId": "9a0b4260-1387-4d08-c2d0-42fee48162ca",
        "colab": {
          "base_uri": "https://localhost:8080/",
          "height": 198
        }
      },
      "id": "AkJzMfL05cfq",
      "execution_count": 4,
      "outputs": [
        {
          "output_type": "execute_result",
          "data": {
            "text/plain": [
              "<SparkContext master=local[*] appName=PySpark Data Processing>"
            ],
            "text/html": [
              "\n",
              "        <div>\n",
              "            <p><b>SparkContext</b></p>\n",
              "\n",
              "            <p><a href=\"http://fb6856ae2d5b:4050\">Spark UI</a></p>\n",
              "\n",
              "            <dl>\n",
              "              <dt>Version</dt>\n",
              "                <dd><code>v3.4.0</code></dd>\n",
              "              <dt>Master</dt>\n",
              "                <dd><code>local[*]</code></dd>\n",
              "              <dt>AppName</dt>\n",
              "                <dd><code>PySpark Data Processing</code></dd>\n",
              "            </dl>\n",
              "        </div>\n",
              "        "
            ]
          },
          "metadata": {},
          "execution_count": 4
        }
      ]
    },
    {
      "cell_type": "markdown",
      "source": [
        "## Noisy Neighbors"
      ],
      "metadata": {
        "id": "xCOUogUOEVdX"
      },
      "id": "xCOUogUOEVdX"
    },
    {
      "cell_type": "markdown",
      "source": [
        "### Understanding the data"
      ],
      "metadata": {
        "id": "zc5yNsSwMPjz"
      },
      "id": "zc5yNsSwMPjz"
    },
    {
      "cell_type": "code",
      "execution_count": 5,
      "id": "a63e1c67-1e44-4942-817b-ebc725baba57",
      "metadata": {
        "tags": [],
        "id": "a63e1c67-1e44-4942-817b-ebc725baba57"
      },
      "outputs": [],
      "source": [
        "# Read a CSV into a dataframe, inferring the schema (see note).\n",
        "\n",
        "dataPath = \"./noisy_neighbors_reports.csv\"\n",
        "neighbors = spark.read.format(\"csv\")\\\n",
        "                .option(\"header\",\"true\")\\\n",
        "                .option(\"inferSchema\", \"true\")\\\n",
        "                .load(dataPath)"
      ]
    },
    {
      "cell_type": "markdown",
      "source": [
        "❗❗ ***.option(\"inferSchema\", \"true\")*** ❗❗\n",
        "\n",
        "inferSchema will reuslt in Spark automatically figuring out the column types, HOWEVER, this come at the cost of reading the datat more than once and also there is no guarantee that the types will be the ones we want."
      ],
      "metadata": {
        "id": "eGBUv8ZTJW7i"
      },
      "id": "eGBUv8ZTJW7i"
    },
    {
      "cell_type": "code",
      "source": [
        "neighbors.show(5)"
      ],
      "metadata": {
        "colab": {
          "base_uri": "https://localhost:8080/"
        },
        "id": "aRD3sG-_DIhC",
        "outputId": "9013e499-4dbd-4fab-af1c-85739367732e"
      },
      "id": "aRD3sG-_DIhC",
      "execution_count": 6,
      "outputs": [
        {
          "output_type": "stream",
          "name": "stdout",
          "text": [
            "+-----------------+------------+---------+-----------+--------------+----------------------+\n",
            "|    Building Type|Incident Zip|  Borough|Day of Week|Date of Report|Duration of Call (min)|\n",
            "+-----------------+------------+---------+-----------+--------------+----------------------+\n",
            "|     Private Home|       10462|    Bronx|          1|    2023-04-24|                    39|\n",
            "|            Villa|       11086|   Queens|          7|    2023-09-03|                    13|\n",
            "|            Hotel|       10068|Manhattan|          3|    2023-03-22|                     8|\n",
            "|            Hotel|       10466|    Bronx|          6|    2023-06-03|                    19|\n",
            "|Apartment Complex|       11217| Brooklyn|          3|    2023-11-08|                    20|\n",
            "+-----------------+------------+---------+-----------+--------------+----------------------+\n",
            "only showing top 5 rows\n",
            "\n"
          ]
        }
      ]
    },
    {
      "cell_type": "code",
      "execution_count": 7,
      "id": "3ff5e9dc-9173-437c-a97e-6bb618458ac3",
      "metadata": {
        "tags": [],
        "id": "3ff5e9dc-9173-437c-a97e-6bb618458ac3",
        "outputId": "227e10b5-cf13-4e3c-a270-d8a1bc2a40f7",
        "colab": {
          "base_uri": "https://localhost:8080/"
        }
      },
      "outputs": [
        {
          "output_type": "stream",
          "name": "stdout",
          "text": [
            "root\n",
            " |-- Building Type: string (nullable = true)\n",
            " |-- Incident Zip: integer (nullable = true)\n",
            " |-- Borough: string (nullable = true)\n",
            " |-- Day of Week: integer (nullable = true)\n",
            " |-- Date of Report: date (nullable = true)\n",
            " |-- Duration of Call (min): integer (nullable = true)\n",
            "\n"
          ]
        }
      ],
      "source": [
        "neighbors.printSchema()"
      ]
    },
    {
      "cell_type": "markdown",
      "source": [
        "❗ **Reminder**: a schema is a StructType made up of a number of fields, StructFields, that have a name, type, and a Boolean flag which specifies whether that column can contain missing or null values."
      ],
      "metadata": {
        "id": "VZtUCHQZKhmo"
      },
      "id": "VZtUCHQZKhmo"
    },
    {
      "cell_type": "code",
      "execution_count": 8,
      "id": "3e9141ed-35a5-403e-81b6-adcf2472eaea",
      "metadata": {
        "id": "3e9141ed-35a5-403e-81b6-adcf2472eaea",
        "outputId": "ef1825bf-3f8c-4b5c-e72e-58a5ecb1e263",
        "colab": {
          "base_uri": "https://localhost:8080/"
        }
      },
      "outputs": [
        {
          "output_type": "execute_result",
          "data": {
            "text/plain": [
              "StructType([StructField('Building Type', StringType(), True), StructField('Incident Zip', IntegerType(), True), StructField('Borough', StringType(), True), StructField('Day of Week', IntegerType(), True), StructField('Date of Report', DateType(), True), StructField('Duration of Call (min)', IntegerType(), True)])"
            ]
          },
          "metadata": {},
          "execution_count": 8
        }
      ],
      "source": [
        "neighbors.schema"
      ]
    },
    {
      "cell_type": "markdown",
      "id": "6a720e61-5da4-49d9-9266-eee5123591bd",
      "metadata": {
        "id": "6a720e61-5da4-49d9-9266-eee5123591bd"
      },
      "source": [
        "Let's see how to manually specify a known schema for a data file, so we can skip the costly \"Infer Schema\":\n",
        "\n"
      ]
    },
    {
      "cell_type": "code",
      "execution_count": 9,
      "id": "3a4127c6-c3e7-4906-ab45-4e8716b2c667",
      "metadata": {
        "tags": [],
        "id": "3a4127c6-c3e7-4906-ab45-4e8716b2c667",
        "outputId": "6b2b3859-0537-4c80-9452-955209de821d",
        "colab": {
          "base_uri": "https://localhost:8080/"
        }
      },
      "outputs": [
        {
          "output_type": "stream",
          "name": "stdout",
          "text": [
            "root\n",
            " |-- Building Type: string (nullable = true)\n",
            " |-- Incident Zip: double (nullable = true)\n",
            " |-- Borough: string (nullable = true)\n",
            " |-- Day of Week: integer (nullable = true)\n",
            " |-- Date of Report: string (nullable = true)\n",
            " |-- Duration of Call (min): integer (nullable = true)\n",
            "\n",
            "+-----------------+------------+---------+-----------+--------------+----------------------+\n",
            "|    Building Type|Incident Zip|  Borough|Day of Week|Date of Report|Duration of Call (min)|\n",
            "+-----------------+------------+---------+-----------+--------------+----------------------+\n",
            "|     Private Home|     10462.0|    Bronx|          1|    2023-04-24|                    39|\n",
            "|            Villa|     11086.0|   Queens|          7|    2023-09-03|                    13|\n",
            "|            Hotel|     10068.0|Manhattan|          3|    2023-03-22|                     8|\n",
            "|            Hotel|     10466.0|    Bronx|          6|    2023-06-03|                    19|\n",
            "|Apartment Complex|     11217.0| Brooklyn|          3|    2023-11-08|                    20|\n",
            "+-----------------+------------+---------+-----------+--------------+----------------------+\n",
            "only showing top 5 rows\n",
            "\n"
          ]
        }
      ],
      "source": [
        "from pyspark.sql.types import StructField, StructType, StringType, DoubleType, IntegerType\n",
        "\n",
        "schema_tut = StructType([StructField('Building Type', StringType(), True),\n",
        "                     StructField('Incident Zip', DoubleType(), True),\n",
        "                     StructField('Borough', StringType(), True),\n",
        "                     StructField('Day of Week', IntegerType(), True),\n",
        "                     StructField('Date of Report', StringType(), True),#Notice we decided to deal with the date as a String\n",
        "                     StructField('Duration of Call (min)', IntegerType(), True)])\n",
        "\n",
        "\n",
        "neighbors = spark.read.format(\"csv\")\\\n",
        "                .option(\"header\",\"true\")\\\n",
        "                .schema(schema_tut)\\\n",
        "                .load(dataPath)\n",
        "\n",
        "neighbors.printSchema()\n",
        "neighbors.show(5)"
      ]
    },
    {
      "cell_type": "markdown",
      "source": [
        "'Duration of Call (min)' is too long to our liking, let's change it to just 'Duration':\n",
        "\n",
        "Introducing, ***.withColumnRenamed('original column name', 'new column name')***"
      ],
      "metadata": {
        "id": "fRdGGeJULFt5"
      },
      "id": "fRdGGeJULFt5"
    },
    {
      "cell_type": "code",
      "source": [
        "neighbors = neighbors.withColumnRenamed('Duration of Call (min)', 'Duration')"
      ],
      "metadata": {
        "id": "cWad0sGILP1O"
      },
      "id": "cWad0sGILP1O",
      "execution_count": 10,
      "outputs": []
    },
    {
      "cell_type": "code",
      "source": [
        "neighbors.printSchema()"
      ],
      "metadata": {
        "colab": {
          "base_uri": "https://localhost:8080/"
        },
        "id": "JDbYRWzpLWGS",
        "outputId": "a41106f3-31a1-4548-99b8-112483bdb91f"
      },
      "id": "JDbYRWzpLWGS",
      "execution_count": 11,
      "outputs": [
        {
          "output_type": "stream",
          "name": "stdout",
          "text": [
            "root\n",
            " |-- Building Type: string (nullable = true)\n",
            " |-- Incident Zip: double (nullable = true)\n",
            " |-- Borough: string (nullable = true)\n",
            " |-- Day of Week: integer (nullable = true)\n",
            " |-- Date of Report: string (nullable = true)\n",
            " |-- Duration: integer (nullable = true)\n",
            "\n"
          ]
        }
      ]
    },
    {
      "cell_type": "markdown",
      "source": [
        "Let's perform a simple columns selection:"
      ],
      "metadata": {
        "id": "saPXfkzPLwTo"
      },
      "id": "saPXfkzPLwTo"
    },
    {
      "cell_type": "code",
      "execution_count": 12,
      "id": "bc4c4ba5-4b33-4188-9ebc-ff9b50fc2d38",
      "metadata": {
        "id": "bc4c4ba5-4b33-4188-9ebc-ff9b50fc2d38",
        "outputId": "7ec3dd89-3a76-44b1-c96d-f89d8ffaa5e5",
        "colab": {
          "base_uri": "https://localhost:8080/"
        }
      },
      "outputs": [
        {
          "output_type": "stream",
          "name": "stdout",
          "text": [
            "+---------+-----------------+\n",
            "|Borough  |Building Type    |\n",
            "+---------+-----------------+\n",
            "|Bronx    |Private Home     |\n",
            "|Queens   |Villa            |\n",
            "|Manhattan|Hotel            |\n",
            "|Bronx    |Hotel            |\n",
            "|Brooklyn |Apartment Complex|\n",
            "+---------+-----------------+\n",
            "only showing top 5 rows\n",
            "\n"
          ]
        }
      ],
      "source": [
        "neighbors.select(['Borough', 'Building Type']).show(5, truncate=False)"
      ]
    },
    {
      "cell_type": "markdown",
      "source": [
        "### Understanding **Transformations** and **Actions**"
      ],
      "metadata": {
        "id": "MVEHUdrbMU0G"
      },
      "id": "MVEHUdrbMU0G"
    },
    {
      "cell_type": "markdown",
      "id": "581d6bb9-923d-42c7-90f7-1a69a7d7fbad",
      "metadata": {
        "id": "581d6bb9-923d-42c7-90f7-1a69a7d7fbad"
      },
      "source": [
        "Let's insoect how transformations and actions work.\n",
        "\n",
        "First, we will create a few transformations, then call an action.\n",
        "\n",
        "These transformations are simple, first we group by the borough and then compute the average duration of a call.\n",
        "Then we're going to inner join that to the original dataset on the column Borough - adding the avg value for each record.\n",
        "Then we'll select the columns we want from that new dataset."
      ]
    },
    {
      "cell_type": "code",
      "execution_count": 13,
      "id": "e957bb4b-c199-4866-bba2-15a77b864271",
      "metadata": {
        "id": "e957bb4b-c199-4866-bba2-15a77b864271",
        "outputId": "b48e9106-d11f-49ff-9363-82c2a6b2b0be",
        "colab": {
          "base_uri": "https://localhost:8080/"
        }
      },
      "outputs": [
        {
          "output_type": "stream",
          "name": "stdout",
          "text": [
            "+-------------+------------------+\n",
            "|      Borough|       avg_dur_bor|\n",
            "+-------------+------------------+\n",
            "|Staten Island| 30.37935138351681|\n",
            "|    Manhattan|30.488801833099267|\n",
            "|     Brooklyn|30.501617409204528|\n",
            "|        Bronx|30.506580893226857|\n",
            "|       Queens|30.583762405790612|\n",
            "+-------------+------------------+\n",
            "\n",
            "+------------+-------------+-----------+--------+------------------+\n",
            "|Incident Zip|      Borough|Day of Week|Duration|       avg_dur_bor|\n",
            "+------------+-------------+-----------+--------+------------------+\n",
            "|     10462.0|        Bronx|          1|      39|30.506580893226857|\n",
            "|     11086.0|       Queens|          7|      13|30.583762405790612|\n",
            "|     10068.0|    Manhattan|          3|       8|30.488801833099267|\n",
            "|     10466.0|        Bronx|          6|      19|30.506580893226857|\n",
            "|     11217.0|     Brooklyn|          3|      20|30.501617409204528|\n",
            "|     11060.0|       Queens|          5|      25|30.583762405790612|\n",
            "|     10061.0|    Manhattan|          7|      52|30.488801833099267|\n",
            "|     11029.0|       Queens|          1|      60|30.583762405790612|\n",
            "|     10302.0|Staten Island|          1|      57| 30.37935138351681|\n",
            "|     10050.0|    Manhattan|          1|      31|30.488801833099267|\n",
            "+------------+-------------+-----------+--------+------------------+\n",
            "only showing top 10 rows\n",
            "\n"
          ]
        }
      ],
      "source": [
        "#Query 1: average call durations per borough\n",
        "df1 = neighbors.groupBy([\"Borough\"])\\\n",
        "              .avg(\"Duration\")\\\n",
        "              .withColumnRenamed(\"avg(Duration)\",\"avg_dur_bor\")\n",
        "\n",
        "#Query 2: Selecting relevant columns after adding the average to each record.\n",
        "df2 = df1.join(neighbors, on=[\"Borough\"], how='inner')\\\n",
        "          .select([\"Incident Zip\",\"Borough\",\"Day of Week\",\"Duration\",\"avg_dur_bor\"])\n",
        "\n",
        "#Ordering in an ascending order on the average duration\n",
        "df1.orderBy('avg_dur_bor',ascending=True).show()\n",
        "\n",
        "df2.show(10)"
      ]
    },
    {
      "cell_type": "markdown",
      "source": [
        "**Spark's Execution Plan**"
      ],
      "metadata": {
        "id": "zR_r0c9fNY6T"
      },
      "id": "zR_r0c9fNY6T"
    },
    {
      "cell_type": "code",
      "execution_count": 14,
      "id": "e815c47b-1bb4-40d5-9057-de46ba5a29f8",
      "metadata": {
        "id": "e815c47b-1bb4-40d5-9057-de46ba5a29f8",
        "outputId": "74035a6b-2388-4b71-ef0e-fc4058a25382",
        "colab": {
          "base_uri": "https://localhost:8080/"
        }
      },
      "outputs": [
        {
          "output_type": "stream",
          "name": "stdout",
          "text": [
            "== Physical Plan ==\n",
            "AdaptiveSparkPlan isFinalPlan=false\n",
            "+- Project [Incident Zip#139, Borough#63, Day of Week#141, Duration#105, avg_dur_bor#135]\n",
            "   +- BroadcastHashJoin [Borough#63], [Borough#140], Inner, BuildLeft, false\n",
            "      :- BroadcastExchange HashedRelationBroadcastMode(List(input[0, string, true]),false), [plan_id=283]\n",
            "      :  +- HashAggregate(keys=[Borough#63], functions=[avg(Duration#105)])\n",
            "      :     +- Exchange hashpartitioning(Borough#63, 200), ENSURE_REQUIREMENTS, [plan_id=280]\n",
            "      :        +- HashAggregate(keys=[Borough#63], functions=[partial_avg(Duration#105)])\n",
            "      :           +- Project [Borough#63, Duration of Call (min)#66 AS Duration#105]\n",
            "      :              +- Filter isnotnull(Borough#63)\n",
            "      :                 +- FileScan csv [Borough#63,Duration of Call (min)#66] Batched: false, DataFilters: [isnotnull(Borough#63)], Format: CSV, Location: InMemoryFileIndex(1 paths)[file:/content/noisy_neighbors_reports.csv], PartitionFilters: [], PushedFilters: [IsNotNull(Borough)], ReadSchema: struct<Borough:string,Duration of Call (min):int>\n",
            "      +- Project [Incident Zip#139, Borough#140, Day of Week#141, Duration of Call (min)#143 AS Duration#105]\n",
            "         +- Filter isnotnull(Borough#140)\n",
            "            +- FileScan csv [Incident Zip#139,Borough#140,Day of Week#141,Duration of Call (min)#143] Batched: false, DataFilters: [isnotnull(Borough#140)], Format: CSV, Location: InMemoryFileIndex(1 paths)[file:/content/noisy_neighbors_reports.csv], PartitionFilters: [], PushedFilters: [IsNotNull(Borough)], ReadSchema: struct<Incident Zip:double,Borough:string,Day of Week:int,Duration of Call (min):int>\n",
            "\n",
            "\n"
          ]
        }
      ],
      "source": [
        "df2.explain()"
      ]
    },
    {
      "cell_type": "code",
      "execution_count": 15,
      "id": "4ea6f5ea-005d-48dd-b91d-a529f237393d",
      "metadata": {
        "id": "4ea6f5ea-005d-48dd-b91d-a529f237393d",
        "outputId": "2e9cbf8d-6dd3-4ecb-c7b7-15bd533f5f3e",
        "colab": {
          "base_uri": "https://localhost:8080/"
        }
      },
      "outputs": [
        {
          "output_type": "execute_result",
          "data": {
            "text/plain": [
              "67500"
            ]
          },
          "metadata": {},
          "execution_count": 15
        }
      ],
      "source": [
        "# This will execute the plan that Apache Spark built up previously.\n",
        "# That is because .count() is an action!\n",
        "df2.count()"
      ]
    },
    {
      "cell_type": "code",
      "execution_count": 16,
      "id": "59df5682-69cd-495e-934d-b913dbc42972",
      "metadata": {
        "id": "59df5682-69cd-495e-934d-b913dbc42972",
        "outputId": "83c30218-1796-4fc8-d3a8-3bc558f252d4",
        "colab": {
          "base_uri": "https://localhost:8080/",
          "height": 423
        }
      },
      "outputs": [
        {
          "output_type": "execute_result",
          "data": {
            "text/plain": [
              "    Incident Zip        Borough  Day of Week  Duration  avg_dur_bor\n",
              "0        10221.0      Manhattan            2        14    30.488802\n",
              "1        11094.0         Queens            6        50    30.583762\n",
              "2        10308.0  Staten Island            4        11    30.379351\n",
              "3        10466.0          Bronx            3        51    30.506581\n",
              "4        11018.0         Queens            4        60    30.583762\n",
              "..           ...            ...          ...       ...          ...\n",
              "71       10117.0      Manhattan            5        45    30.488802\n",
              "72       11236.0       Brooklyn            3        58    30.501617\n",
              "73       10313.0  Staten Island            3         4    30.379351\n",
              "74       10313.0  Staten Island            1        34    30.379351\n",
              "75       10303.0  Staten Island            4         6    30.379351\n",
              "\n",
              "[76 rows x 5 columns]"
            ],
            "text/html": [
              "\n",
              "  <div id=\"df-f5581e3b-e878-4b2b-876e-f7584600170a\" class=\"colab-df-container\">\n",
              "    <div>\n",
              "<style scoped>\n",
              "    .dataframe tbody tr th:only-of-type {\n",
              "        vertical-align: middle;\n",
              "    }\n",
              "\n",
              "    .dataframe tbody tr th {\n",
              "        vertical-align: top;\n",
              "    }\n",
              "\n",
              "    .dataframe thead th {\n",
              "        text-align: right;\n",
              "    }\n",
              "</style>\n",
              "<table border=\"1\" class=\"dataframe\">\n",
              "  <thead>\n",
              "    <tr style=\"text-align: right;\">\n",
              "      <th></th>\n",
              "      <th>Incident Zip</th>\n",
              "      <th>Borough</th>\n",
              "      <th>Day of Week</th>\n",
              "      <th>Duration</th>\n",
              "      <th>avg_dur_bor</th>\n",
              "    </tr>\n",
              "  </thead>\n",
              "  <tbody>\n",
              "    <tr>\n",
              "      <th>0</th>\n",
              "      <td>10221.0</td>\n",
              "      <td>Manhattan</td>\n",
              "      <td>2</td>\n",
              "      <td>14</td>\n",
              "      <td>30.488802</td>\n",
              "    </tr>\n",
              "    <tr>\n",
              "      <th>1</th>\n",
              "      <td>11094.0</td>\n",
              "      <td>Queens</td>\n",
              "      <td>6</td>\n",
              "      <td>50</td>\n",
              "      <td>30.583762</td>\n",
              "    </tr>\n",
              "    <tr>\n",
              "      <th>2</th>\n",
              "      <td>10308.0</td>\n",
              "      <td>Staten Island</td>\n",
              "      <td>4</td>\n",
              "      <td>11</td>\n",
              "      <td>30.379351</td>\n",
              "    </tr>\n",
              "    <tr>\n",
              "      <th>3</th>\n",
              "      <td>10466.0</td>\n",
              "      <td>Bronx</td>\n",
              "      <td>3</td>\n",
              "      <td>51</td>\n",
              "      <td>30.506581</td>\n",
              "    </tr>\n",
              "    <tr>\n",
              "      <th>4</th>\n",
              "      <td>11018.0</td>\n",
              "      <td>Queens</td>\n",
              "      <td>4</td>\n",
              "      <td>60</td>\n",
              "      <td>30.583762</td>\n",
              "    </tr>\n",
              "    <tr>\n",
              "      <th>...</th>\n",
              "      <td>...</td>\n",
              "      <td>...</td>\n",
              "      <td>...</td>\n",
              "      <td>...</td>\n",
              "      <td>...</td>\n",
              "    </tr>\n",
              "    <tr>\n",
              "      <th>71</th>\n",
              "      <td>10117.0</td>\n",
              "      <td>Manhattan</td>\n",
              "      <td>5</td>\n",
              "      <td>45</td>\n",
              "      <td>30.488802</td>\n",
              "    </tr>\n",
              "    <tr>\n",
              "      <th>72</th>\n",
              "      <td>11236.0</td>\n",
              "      <td>Brooklyn</td>\n",
              "      <td>3</td>\n",
              "      <td>58</td>\n",
              "      <td>30.501617</td>\n",
              "    </tr>\n",
              "    <tr>\n",
              "      <th>73</th>\n",
              "      <td>10313.0</td>\n",
              "      <td>Staten Island</td>\n",
              "      <td>3</td>\n",
              "      <td>4</td>\n",
              "      <td>30.379351</td>\n",
              "    </tr>\n",
              "    <tr>\n",
              "      <th>74</th>\n",
              "      <td>10313.0</td>\n",
              "      <td>Staten Island</td>\n",
              "      <td>1</td>\n",
              "      <td>34</td>\n",
              "      <td>30.379351</td>\n",
              "    </tr>\n",
              "    <tr>\n",
              "      <th>75</th>\n",
              "      <td>10303.0</td>\n",
              "      <td>Staten Island</td>\n",
              "      <td>4</td>\n",
              "      <td>6</td>\n",
              "      <td>30.379351</td>\n",
              "    </tr>\n",
              "  </tbody>\n",
              "</table>\n",
              "<p>76 rows × 5 columns</p>\n",
              "</div>\n",
              "    <div class=\"colab-df-buttons\">\n",
              "\n",
              "  <div class=\"colab-df-container\">\n",
              "    <button class=\"colab-df-convert\" onclick=\"convertToInteractive('df-f5581e3b-e878-4b2b-876e-f7584600170a')\"\n",
              "            title=\"Convert this dataframe to an interactive table.\"\n",
              "            style=\"display:none;\">\n",
              "\n",
              "  <svg xmlns=\"http://www.w3.org/2000/svg\" height=\"24px\" viewBox=\"0 -960 960 960\">\n",
              "    <path d=\"M120-120v-720h720v720H120Zm60-500h600v-160H180v160Zm220 220h160v-160H400v160Zm0 220h160v-160H400v160ZM180-400h160v-160H180v160Zm440 0h160v-160H620v160ZM180-180h160v-160H180v160Zm440 0h160v-160H620v160Z\"/>\n",
              "  </svg>\n",
              "    </button>\n",
              "\n",
              "  <style>\n",
              "    .colab-df-container {\n",
              "      display:flex;\n",
              "      gap: 12px;\n",
              "    }\n",
              "\n",
              "    .colab-df-convert {\n",
              "      background-color: #E8F0FE;\n",
              "      border: none;\n",
              "      border-radius: 50%;\n",
              "      cursor: pointer;\n",
              "      display: none;\n",
              "      fill: #1967D2;\n",
              "      height: 32px;\n",
              "      padding: 0 0 0 0;\n",
              "      width: 32px;\n",
              "    }\n",
              "\n",
              "    .colab-df-convert:hover {\n",
              "      background-color: #E2EBFA;\n",
              "      box-shadow: 0px 1px 2px rgba(60, 64, 67, 0.3), 0px 1px 3px 1px rgba(60, 64, 67, 0.15);\n",
              "      fill: #174EA6;\n",
              "    }\n",
              "\n",
              "    .colab-df-buttons div {\n",
              "      margin-bottom: 4px;\n",
              "    }\n",
              "\n",
              "    [theme=dark] .colab-df-convert {\n",
              "      background-color: #3B4455;\n",
              "      fill: #D2E3FC;\n",
              "    }\n",
              "\n",
              "    [theme=dark] .colab-df-convert:hover {\n",
              "      background-color: #434B5C;\n",
              "      box-shadow: 0px 1px 3px 1px rgba(0, 0, 0, 0.15);\n",
              "      filter: drop-shadow(0px 1px 2px rgba(0, 0, 0, 0.3));\n",
              "      fill: #FFFFFF;\n",
              "    }\n",
              "  </style>\n",
              "\n",
              "    <script>\n",
              "      const buttonEl =\n",
              "        document.querySelector('#df-f5581e3b-e878-4b2b-876e-f7584600170a button.colab-df-convert');\n",
              "      buttonEl.style.display =\n",
              "        google.colab.kernel.accessAllowed ? 'block' : 'none';\n",
              "\n",
              "      async function convertToInteractive(key) {\n",
              "        const element = document.querySelector('#df-f5581e3b-e878-4b2b-876e-f7584600170a');\n",
              "        const dataTable =\n",
              "          await google.colab.kernel.invokeFunction('convertToInteractive',\n",
              "                                                    [key], {});\n",
              "        if (!dataTable) return;\n",
              "\n",
              "        const docLinkHtml = 'Like what you see? Visit the ' +\n",
              "          '<a target=\"_blank\" href=https://colab.research.google.com/notebooks/data_table.ipynb>data table notebook</a>'\n",
              "          + ' to learn more about interactive tables.';\n",
              "        element.innerHTML = '';\n",
              "        dataTable['output_type'] = 'display_data';\n",
              "        await google.colab.output.renderOutput(dataTable, element);\n",
              "        const docLink = document.createElement('div');\n",
              "        docLink.innerHTML = docLinkHtml;\n",
              "        element.appendChild(docLink);\n",
              "      }\n",
              "    </script>\n",
              "  </div>\n",
              "\n",
              "\n",
              "<div id=\"df-5ae01001-99e3-474a-bcd4-44879ebe9792\">\n",
              "  <button class=\"colab-df-quickchart\" onclick=\"quickchart('df-5ae01001-99e3-474a-bcd4-44879ebe9792')\"\n",
              "            title=\"Suggest charts\"\n",
              "            style=\"display:none;\">\n",
              "\n",
              "<svg xmlns=\"http://www.w3.org/2000/svg\" height=\"24px\"viewBox=\"0 0 24 24\"\n",
              "     width=\"24px\">\n",
              "    <g>\n",
              "        <path d=\"M19 3H5c-1.1 0-2 .9-2 2v14c0 1.1.9 2 2 2h14c1.1 0 2-.9 2-2V5c0-1.1-.9-2-2-2zM9 17H7v-7h2v7zm4 0h-2V7h2v10zm4 0h-2v-4h2v4z\"/>\n",
              "    </g>\n",
              "</svg>\n",
              "  </button>\n",
              "\n",
              "<style>\n",
              "  .colab-df-quickchart {\n",
              "      --bg-color: #E8F0FE;\n",
              "      --fill-color: #1967D2;\n",
              "      --hover-bg-color: #E2EBFA;\n",
              "      --hover-fill-color: #174EA6;\n",
              "      --disabled-fill-color: #AAA;\n",
              "      --disabled-bg-color: #DDD;\n",
              "  }\n",
              "\n",
              "  [theme=dark] .colab-df-quickchart {\n",
              "      --bg-color: #3B4455;\n",
              "      --fill-color: #D2E3FC;\n",
              "      --hover-bg-color: #434B5C;\n",
              "      --hover-fill-color: #FFFFFF;\n",
              "      --disabled-bg-color: #3B4455;\n",
              "      --disabled-fill-color: #666;\n",
              "  }\n",
              "\n",
              "  .colab-df-quickchart {\n",
              "    background-color: var(--bg-color);\n",
              "    border: none;\n",
              "    border-radius: 50%;\n",
              "    cursor: pointer;\n",
              "    display: none;\n",
              "    fill: var(--fill-color);\n",
              "    height: 32px;\n",
              "    padding: 0;\n",
              "    width: 32px;\n",
              "  }\n",
              "\n",
              "  .colab-df-quickchart:hover {\n",
              "    background-color: var(--hover-bg-color);\n",
              "    box-shadow: 0 1px 2px rgba(60, 64, 67, 0.3), 0 1px 3px 1px rgba(60, 64, 67, 0.15);\n",
              "    fill: var(--button-hover-fill-color);\n",
              "  }\n",
              "\n",
              "  .colab-df-quickchart-complete:disabled,\n",
              "  .colab-df-quickchart-complete:disabled:hover {\n",
              "    background-color: var(--disabled-bg-color);\n",
              "    fill: var(--disabled-fill-color);\n",
              "    box-shadow: none;\n",
              "  }\n",
              "\n",
              "  .colab-df-spinner {\n",
              "    border: 2px solid var(--fill-color);\n",
              "    border-color: transparent;\n",
              "    border-bottom-color: var(--fill-color);\n",
              "    animation:\n",
              "      spin 1s steps(1) infinite;\n",
              "  }\n",
              "\n",
              "  @keyframes spin {\n",
              "    0% {\n",
              "      border-color: transparent;\n",
              "      border-bottom-color: var(--fill-color);\n",
              "      border-left-color: var(--fill-color);\n",
              "    }\n",
              "    20% {\n",
              "      border-color: transparent;\n",
              "      border-left-color: var(--fill-color);\n",
              "      border-top-color: var(--fill-color);\n",
              "    }\n",
              "    30% {\n",
              "      border-color: transparent;\n",
              "      border-left-color: var(--fill-color);\n",
              "      border-top-color: var(--fill-color);\n",
              "      border-right-color: var(--fill-color);\n",
              "    }\n",
              "    40% {\n",
              "      border-color: transparent;\n",
              "      border-right-color: var(--fill-color);\n",
              "      border-top-color: var(--fill-color);\n",
              "    }\n",
              "    60% {\n",
              "      border-color: transparent;\n",
              "      border-right-color: var(--fill-color);\n",
              "    }\n",
              "    80% {\n",
              "      border-color: transparent;\n",
              "      border-right-color: var(--fill-color);\n",
              "      border-bottom-color: var(--fill-color);\n",
              "    }\n",
              "    90% {\n",
              "      border-color: transparent;\n",
              "      border-bottom-color: var(--fill-color);\n",
              "    }\n",
              "  }\n",
              "</style>\n",
              "\n",
              "  <script>\n",
              "    async function quickchart(key) {\n",
              "      const quickchartButtonEl =\n",
              "        document.querySelector('#' + key + ' button');\n",
              "      quickchartButtonEl.disabled = true;  // To prevent multiple clicks.\n",
              "      quickchartButtonEl.classList.add('colab-df-spinner');\n",
              "      try {\n",
              "        const charts = await google.colab.kernel.invokeFunction(\n",
              "            'suggestCharts', [key], {});\n",
              "      } catch (error) {\n",
              "        console.error('Error during call to suggestCharts:', error);\n",
              "      }\n",
              "      quickchartButtonEl.classList.remove('colab-df-spinner');\n",
              "      quickchartButtonEl.classList.add('colab-df-quickchart-complete');\n",
              "    }\n",
              "    (() => {\n",
              "      let quickchartButtonEl =\n",
              "        document.querySelector('#df-5ae01001-99e3-474a-bcd4-44879ebe9792 button');\n",
              "      quickchartButtonEl.style.display =\n",
              "        google.colab.kernel.accessAllowed ? 'block' : 'none';\n",
              "    })();\n",
              "  </script>\n",
              "</div>\n",
              "\n",
              "    </div>\n",
              "  </div>\n"
            ],
            "application/vnd.google.colaboratory.intrinsic+json": {
              "type": "dataframe",
              "summary": "{\n  \"name\": \"df2\",\n  \"rows\": 76,\n  \"fields\": [\n    {\n      \"column\": \"Incident Zip\",\n      \"properties\": {\n        \"dtype\": \"number\",\n        \"std\": 444.53112278310397,\n        \"min\": 10019.0,\n        \"max\": 11253.0,\n        \"num_unique_values\": 64,\n        \"samples\": [\n          10134.0,\n          11038.0,\n          10221.0\n        ],\n        \"semantic_type\": \"\",\n        \"description\": \"\"\n      }\n    },\n    {\n      \"column\": \"Borough\",\n      \"properties\": {\n        \"dtype\": \"category\",\n        \"num_unique_values\": 5,\n        \"samples\": [\n          \"Queens\",\n          \"Brooklyn\",\n          \"Staten Island\"\n        ],\n        \"semantic_type\": \"\",\n        \"description\": \"\"\n      }\n    },\n    {\n      \"column\": \"Day of Week\",\n      \"properties\": {\n        \"dtype\": \"int32\",\n        \"num_unique_values\": 7,\n        \"samples\": [\n          2,\n          6,\n          5\n        ],\n        \"semantic_type\": \"\",\n        \"description\": \"\"\n      }\n    },\n    {\n      \"column\": \"Duration\",\n      \"properties\": {\n        \"dtype\": \"int32\",\n        \"num_unique_values\": 47,\n        \"samples\": [\n          26,\n          27,\n          17\n        ],\n        \"semantic_type\": \"\",\n        \"description\": \"\"\n      }\n    },\n    {\n      \"column\": \"avg_dur_bor\",\n      \"properties\": {\n        \"dtype\": \"number\",\n        \"std\": 0.0710138890032417,\n        \"min\": 30.37935138351681,\n        \"max\": 30.583762405790612,\n        \"num_unique_values\": 5,\n        \"samples\": [\n          30.583762405790612,\n          30.501617409204528,\n          30.37935138351681\n        ],\n        \"semantic_type\": \"\",\n        \"description\": \"\"\n      }\n    }\n  ]\n}"
            }
          },
          "metadata": {},
          "execution_count": 16
        }
      ],
      "source": [
        "# we can convert to Pandas IF the data can fit into one node\n",
        "df2.sample(0.001).toPandas()"
      ]
    },
    {
      "cell_type": "code",
      "source": [
        "# Size of the dataframe in local RAM (Pandas!) in MB\n",
        "df2.toPandas().memory_usage(deep=True).sum()/(1000*1000)"
      ],
      "metadata": {
        "colab": {
          "base_uri": "https://localhost:8080/"
        },
        "id": "MwmqYcpqQFj8",
        "outputId": "cf8638fc-4e7f-4074-c593-e0c65cf5defa"
      },
      "id": "MwmqYcpqQFj8",
      "execution_count": 17,
      "outputs": [
        {
          "output_type": "execute_result",
          "data": {
            "text/plain": [
              "6.021007"
            ]
          },
          "metadata": {},
          "execution_count": 17
        }
      ]
    },
    {
      "cell_type": "markdown",
      "id": "80b94849-b5ea-4dcb-906d-24784f85ec7c",
      "metadata": {
        "id": "80b94849-b5ea-4dcb-906d-24784f85ec7c"
      },
      "source": [
        "# Check yourself\n",
        "* Imagine df2 is a big table. Replace `df2.sample(0.0001).toPandas()` with `df2.toPandas()`  and run the cell.\n",
        "What happens?\n",
        "How much memory is needed in this PC to load the full Pandas DF?"
      ]
    },
    {
      "cell_type": "markdown",
      "id": "0ca01489-9314-4ef7-b3ea-62e0fb694c30",
      "metadata": {
        "id": "0ca01489-9314-4ef7-b3ea-62e0fb694c30"
      },
      "source": [
        "hint: `df2.limit(100).toPandas().memory_usage()`"
      ]
    },
    {
      "cell_type": "markdown",
      "source": [
        "# Competition\n",
        "\n",
        "Be the first to give the noisiest zip in NYC! ⏰\n",
        "\n",
        "\"noisiest\" = most calls made to comaplin from that zip"
      ],
      "metadata": {
        "id": "tpMK6L5DgtLq"
      },
      "id": "tpMK6L5DgtLq"
    },
    {
      "cell_type": "code",
      "source": [
        "# Your code here!"
      ],
      "metadata": {
        "id": "zbVWI2IKRTuN"
      },
      "id": "zbVWI2IKRTuN",
      "execution_count": 18,
      "outputs": []
    },
    {
      "cell_type": "code",
      "source": [
        "# @title SOLUTION - DONT PEAK BEFORE YOU TRY!\n",
        "neighbors.groupBy('Incident Zip').count().orderBy('Count', ascending=False).show(3)"
      ],
      "metadata": {
        "cellView": "form",
        "id": "-m70mI7UR1FY"
      },
      "id": "-m70mI7UR1FY",
      "execution_count": null,
      "outputs": []
    },
    {
      "cell_type": "markdown",
      "source": [
        "## More complex examples"
      ],
      "metadata": {
        "id": "tn2_fhcaPZ6D"
      },
      "id": "tn2_fhcaPZ6D"
    },
    {
      "cell_type": "code",
      "source": [
        "import pyspark.sql.functions\n",
        "from pyspark.sql.functions import*"
      ],
      "metadata": {
        "id": "2imGlDpwjPOZ"
      },
      "id": "2imGlDpwjPOZ",
      "execution_count": 20,
      "outputs": []
    },
    {
      "cell_type": "markdown",
      "source": [
        "**Task**: For calls made on weekends that lasted less than 15 minutes, calculate their noisiness score, defined as:\n",
        "$score = \\text{Day of Week}\\cdot \\frac{\\text{Duration}}{\\text{number of letters in the borough's name}} + \\text{the number of month}$"
      ],
      "metadata": {
        "id": "H6IWRViUVX0j"
      },
      "id": "H6IWRViUVX0j"
    },
    {
      "cell_type": "code",
      "source": [
        "noise_score = neighbors.filter((col('Day of Week').between(6, 7)) &\n",
        "                (col('Duration') < 15))\\\n",
        "          .withColumn('num_letters_borough', length(col('Borough')))\\\n",
        "          .withColumn('month_number', col(\"Date of Report\").substr(6,2).cast(\"int\"))\\\n",
        "          .withColumn('score',\n",
        "                      col('Day of Week') * col('Duration') / col('num_letters_borough') + col('month_number')\n",
        "          )\\\n",
        "          .select(['Incident Zip', 'Borough', 'Day of Week', 'Duration', 'num_letters_borough', 'month_number', 'score'])\n",
        "\n",
        "# Line 1: Keep only weekends (Saturday & Sunday)\n",
        "# Line 2: Keep only short calls (< 15 min)\n",
        "# Line 3: Count letters in Borough name\n",
        "# Line 4: Extract MM from YYYY-MM-DD then cast to integer\n",
        "# Line 5: Compute noisiness score\n",
        "# Line 6: Select relevant columns\n",
        "\n",
        "# Sort results by score in descending order and show top 10\n",
        "noise_score.orderBy('score', ascending=False).show(10)\n"
      ],
      "metadata": {
        "colab": {
          "base_uri": "https://localhost:8080/"
        },
        "id": "AjZpJpkFPZPW",
        "outputId": "bc78e979-bdb7-44f4-9950-5a7c77edf7c8"
      },
      "id": "AjZpJpkFPZPW",
      "execution_count": 21,
      "outputs": [
        {
          "output_type": "stream",
          "name": "stdout",
          "text": [
            "+------------+-------+-----------+--------+-------------------+------------+-----+\n",
            "|Incident Zip|Borough|Day of Week|Duration|num_letters_borough|month_number|score|\n",
            "+------------+-------+-----------+--------+-------------------+------------+-----+\n",
            "|     10473.0|  Bronx|          7|      14|                  5|          11| 30.6|\n",
            "|     10456.0|  Bronx|          7|      14|                  5|          11| 30.6|\n",
            "|     10456.0|  Bronx|          7|      14|                  5|          11| 30.6|\n",
            "|     10465.0|  Bronx|          7|      14|                  5|          11| 30.6|\n",
            "|     10456.0|  Bronx|          7|      13|                  5|          12| 30.2|\n",
            "|     10453.0|  Bronx|          7|      13|                  5|          12| 30.2|\n",
            "|     10468.0|  Bronx|          7|      13|                  5|          12| 30.2|\n",
            "|     10456.0|  Bronx|          7|      14|                  5|          10| 29.6|\n",
            "|     10473.0|  Bronx|          7|      14|                  5|          10| 29.6|\n",
            "|     10461.0|  Bronx|          7|      14|                  5|          10| 29.6|\n",
            "+------------+-------+-----------+--------+-------------------+------------+-----+\n",
            "only showing top 10 rows\n",
            "\n"
          ]
        }
      ]
    },
    {
      "cell_type": "markdown",
      "source": [
        "### Merging zip codes and boroughs into one column and calculating their overall score"
      ],
      "metadata": {
        "id": "0kIlNsx3e8EU"
      },
      "id": "0kIlNsx3e8EU"
    },
    {
      "cell_type": "code",
      "source": [
        "# Understand what we're working with\n",
        "noise_score.printSchema()"
      ],
      "metadata": {
        "colab": {
          "base_uri": "https://localhost:8080/"
        },
        "id": "FJmoNeCgcfsx",
        "outputId": "b075f3b0-cd95-40df-ea01-a9259a19a586"
      },
      "id": "FJmoNeCgcfsx",
      "execution_count": 22,
      "outputs": [
        {
          "output_type": "stream",
          "name": "stdout",
          "text": [
            "root\n",
            " |-- Incident Zip: double (nullable = true)\n",
            " |-- Borough: string (nullable = true)\n",
            " |-- Day of Week: integer (nullable = true)\n",
            " |-- Duration: integer (nullable = true)\n",
            " |-- num_letters_borough: integer (nullable = true)\n",
            " |-- month_number: integer (nullable = true)\n",
            " |-- score: double (nullable = true)\n",
            "\n"
          ]
        }
      ]
    },
    {
      "cell_type": "code",
      "source": [
        "merged_noise_score = noise_score.\\\n",
        "        rdd.\\\n",
        "merged_noise_score = noise_score.\\\n",
        "        rdd.\\\n",
        "        map(lambda row: ((row['Incident Zip'], row['Borough']), row['score']))\\\n",
        "        .reduceByKey(lambda x, y: x+y).toDF().\\\n",
        "        select(col('_1').alias('zip and borough'), col('_2').alias('score'))\n",
        "\n",
        "#Notice that we had to switch back to RDDs to work with MapReduce.\n",
        "\n",
        "merged_noise_score.show(10)"
      ],
      "metadata": {
        "colab": {
          "base_uri": "https://localhost:8080/"
        },
        "id": "LBM35mxzZj7s",
        "outputId": "71d05652-c428-47d0-bed5-8268dd061ca3"
      },
      "id": "LBM35mxzZj7s",
      "execution_count": 23,
      "outputs": [
        {
          "output_type": "stream",
          "name": "stdout",
          "text": [
            "+--------------------+------------------+\n",
            "|     zip and borough|             score|\n",
            "+--------------------+------------------+\n",
            "|   {11086.0, Queens}|145.16666666666666|\n",
            "| {11243.0, Brooklyn}|           228.875|\n",
            "|{10313.0, Staten ...| 592.2307692307694|\n",
            "| {11204.0, Brooklyn}|            228.75|\n",
            "|    {10463.0, Bronx}| 633.4000000000001|\n",
            "|{10215.0, Manhattan}| 56.33333333333334|\n",
            "|    {10461.0, Bronx}| 631.9999999999999|\n",
            "| {11216.0, Brooklyn}|             223.5|\n",
            "|{10306.0, Staten ...| 686.8461538461539|\n",
            "|{10139.0, Manhattan}|              41.0|\n",
            "+--------------------+------------------+\n",
            "only showing top 10 rows\n",
            "\n"
          ]
        }
      ]
    },
    {
      "cell_type": "markdown",
      "source": [
        "**Note**: the same thing could have been done using only DataFrame operations by using .groupBy() and .agg(), tehn structing a new column with the ziip and borough."
      ],
      "metadata": {
        "id": "royNhWv9baG4"
      },
      "id": "royNhWv9baG4"
    },
    {
      "cell_type": "markdown",
      "source": [
        "# **More DataFrame Operations**"
      ],
      "metadata": {
        "id": "QGUkyvzTcsOU"
      },
      "id": "QGUkyvzTcsOU"
    },
    {
      "cell_type": "markdown",
      "source": [
        "***when()***: for condiitonal column values - assigining new values based on a condition"
      ],
      "metadata": {
        "id": "3CUosEZ2eR77"
      },
      "id": "3CUosEZ2eR77"
    },
    {
      "cell_type": "code",
      "source": [
        "noise_level = neighbors.withColumn(\"Noise Level\", when(col(\"Duration\") > 30, \"High\").otherwise(\"Low\"))\n",
        "\n",
        "noise_level.select(['Borough','Incident Zip','Day of Week','Duration','Noise Level']).show(10)"
      ],
      "metadata": {
        "colab": {
          "base_uri": "https://localhost:8080/"
        },
        "id": "RLYOQ9C0ePZT",
        "outputId": "b0e74bb5-03b4-4076-cd3c-bc9b35389539"
      },
      "id": "RLYOQ9C0ePZT",
      "execution_count": 24,
      "outputs": [
        {
          "output_type": "stream",
          "name": "stdout",
          "text": [
            "+-------------+------------+-----------+--------+-----------+\n",
            "|      Borough|Incident Zip|Day of Week|Duration|Noise Level|\n",
            "+-------------+------------+-----------+--------+-----------+\n",
            "|        Bronx|     10462.0|          1|      39|       High|\n",
            "|       Queens|     11086.0|          7|      13|        Low|\n",
            "|    Manhattan|     10068.0|          3|       8|        Low|\n",
            "|        Bronx|     10466.0|          6|      19|        Low|\n",
            "|     Brooklyn|     11217.0|          3|      20|        Low|\n",
            "|       Queens|     11060.0|          5|      25|        Low|\n",
            "|    Manhattan|     10061.0|          7|      52|       High|\n",
            "|       Queens|     11029.0|          1|      60|       High|\n",
            "|Staten Island|     10302.0|          1|      57|       High|\n",
            "|    Manhattan|     10050.0|          1|      31|       High|\n",
            "+-------------+------------+-----------+--------+-----------+\n",
            "only showing top 10 rows\n",
            "\n"
          ]
        }
      ]
    },
    {
      "cell_type": "markdown",
      "source": [
        "***between(a,b)***: range filterring"
      ],
      "metadata": {
        "id": "x86RjouzfA8d"
      },
      "id": "x86RjouzfA8d"
    },
    {
      "cell_type": "code",
      "source": [
        "neighbors.filter(col(\"Duration\").between(10, 30)).show(5)\n"
      ],
      "metadata": {
        "colab": {
          "base_uri": "https://localhost:8080/"
        },
        "id": "kv2yEcKDfJhS",
        "outputId": "3f8d2588-fe14-46b5-a300-c89f51b90c53"
      },
      "id": "kv2yEcKDfJhS",
      "execution_count": 25,
      "outputs": [
        {
          "output_type": "stream",
          "name": "stdout",
          "text": [
            "+-----------------+------------+-------------+-----------+--------------+--------+\n",
            "|    Building Type|Incident Zip|      Borough|Day of Week|Date of Report|Duration|\n",
            "+-----------------+------------+-------------+-----------+--------------+--------+\n",
            "|            Villa|     11086.0|       Queens|          7|    2023-09-03|      13|\n",
            "|            Hotel|     10466.0|        Bronx|          6|    2023-06-03|      19|\n",
            "|Apartment Complex|     11217.0|     Brooklyn|          3|    2023-11-08|      20|\n",
            "|     Private Home|     11060.0|       Queens|          5|    2023-10-27|      25|\n",
            "|     Private Home|     10306.0|Staten Island|          7|    2023-05-14|      21|\n",
            "+-----------------+------------+-------------+-----------+--------------+--------+\n",
            "only showing top 5 rows\n",
            "\n"
          ]
        }
      ]
    },
    {
      "cell_type": "markdown",
      "source": [
        "***.groupBy()*** is to group according to a key, ***.agg()*** is to perform operations on the grouped values"
      ],
      "metadata": {
        "id": "YXqKaH9BgNC3"
      },
      "id": "YXqKaH9BgNC3"
    },
    {
      "cell_type": "markdown",
      "source": [
        "***.sum()*** to sum aggregated values\n",
        "\n",
        "***.avg()*** to calculate their average\n",
        "\n",
        "***.count()***  to count the number of elements in the aggregated values"
      ],
      "metadata": {
        "id": "y0UrTToAicKQ"
      },
      "id": "y0UrTToAicKQ"
    },
    {
      "cell_type": "code",
      "source": [
        "neighbors.groupBy(\"Borough\").agg(\n",
        "    sum(\"Duration\").alias(\"Total Duration\"),\n",
        "    avg(\"Duration\").alias(\"Avg Duration\"),\n",
        "    count(\"*\").alias(\"Total Complaints\")\n",
        ").show()\n"
      ],
      "metadata": {
        "colab": {
          "base_uri": "https://localhost:8080/"
        },
        "id": "p50oL_SShkm1",
        "outputId": "e2c5759d-5fa2-4198-fe60-d562c532bac6"
      },
      "id": "p50oL_SShkm1",
      "execution_count": 26,
      "outputs": [
        {
          "output_type": "stream",
          "name": "stdout",
          "text": [
            "+-------------+--------------+------------------+----------------+\n",
            "|      Borough|Total Duration|      Avg Duration|Total Complaints|\n",
            "+-------------+--------------+------------------+----------------+\n",
            "|       Queens|        409853|30.583762405790612|           13401|\n",
            "|     Brooklyn|        414883|30.501617409204528|           13602|\n",
            "|Staten Island|        408420| 30.37935138351681|           13444|\n",
            "|    Manhattan|        412483|30.488801833099267|           13529|\n",
            "|        Bronx|        412571|30.506580893226857|           13524|\n",
            "+-------------+--------------+------------------+----------------+\n",
            "\n"
          ]
        }
      ]
    },
    {
      "cell_type": "markdown",
      "source": [
        "***.min()*** - minimal value\n",
        "\n",
        "***.max()*** - maximal value"
      ],
      "metadata": {
        "id": "uJFIvqCpi2zQ"
      },
      "id": "uJFIvqCpi2zQ"
    },
    {
      "cell_type": "code",
      "source": [
        "neighbors.groupBy(\"Borough\").agg(\n",
        "    min(\"Duration\").alias(\"Min Duration\"),\n",
        "    max(\"Duration\").alias(\"Max Duration\")\n",
        ").show()\n"
      ],
      "metadata": {
        "colab": {
          "base_uri": "https://localhost:8080/"
        },
        "id": "iS16lfrriDM5",
        "outputId": "652f9b97-b8ea-4419-d9f0-5b6564b2841e"
      },
      "id": "iS16lfrriDM5",
      "execution_count": 27,
      "outputs": [
        {
          "output_type": "stream",
          "name": "stdout",
          "text": [
            "+-------------+------------+------------+\n",
            "|      Borough|Min Duration|Max Duration|\n",
            "+-------------+------------+------------+\n",
            "|       Queens|           1|          60|\n",
            "|     Brooklyn|           1|          60|\n",
            "|Staten Island|           1|          60|\n",
            "|    Manhattan|           1|          60|\n",
            "|        Bronx|           1|          60|\n",
            "+-------------+------------+------------+\n",
            "\n"
          ]
        }
      ]
    },
    {
      "cell_type": "markdown",
      "source": [
        "(Exposing the fact that the generated durations come from a uniform distribution between 1 and 60 lol)"
      ],
      "metadata": {
        "id": "YBmAJQJgiQNv"
      },
      "id": "YBmAJQJgiQNv"
    },
    {
      "cell_type": "markdown",
      "source": [
        "***.explode()*** to expand array column into multiple rows\n",
        "\n",
        "***.drop()*** to drop a column or a subset of columns"
      ],
      "metadata": {
        "id": "cvlnhVaFjAwV"
      },
      "id": "cvlnhVaFjAwV"
    },
    {
      "cell_type": "code",
      "source": [
        "# Creating a datafram with an array as one of its columns\n",
        "data = [\n",
        "    (\"student1\", [95, 98, 100], 'Data Sceince'),\n",
        "    (\"student2\", [85, 90], 'Civil Engineering'),\n",
        "    (\"student3\", [75, 60, 55], 'Computer Science')\n",
        "]\n",
        "\n",
        "df = spark.createDataFrame(data, [\"student ID\", \"Grades\", \"Major\"])\n",
        "df = df.withColumn(\"grade\", explode(col('Grades'))).drop('Grades', 'Major')\n",
        "df.show()\n"
      ],
      "metadata": {
        "colab": {
          "base_uri": "https://localhost:8080/"
        },
        "id": "Ak8p4IwDjTff",
        "outputId": "407800d5-cfb4-4988-94e8-8bd7af98f42b"
      },
      "id": "Ak8p4IwDjTff",
      "execution_count": 28,
      "outputs": [
        {
          "output_type": "stream",
          "name": "stdout",
          "text": [
            "+----------+-----+\n",
            "|student ID|grade|\n",
            "+----------+-----+\n",
            "|  student1|   95|\n",
            "|  student1|   98|\n",
            "|  student1|  100|\n",
            "|  student2|   85|\n",
            "|  student2|   90|\n",
            "|  student3|   75|\n",
            "|  student3|   60|\n",
            "|  student3|   55|\n",
            "+----------+-----+\n",
            "\n"
          ]
        }
      ]
    }
  ],
  "metadata": {
    "kernelspec": {
      "display_name": "Python 3 (ipykernel)",
      "language": "python",
      "name": "python3"
    },
    "language_info": {
      "codemirror_mode": {
        "name": "ipython",
        "version": 3
      },
      "file_extension": ".py",
      "mimetype": "text/x-python",
      "name": "python",
      "nbconvert_exporter": "python",
      "pygments_lexer": "ipython3",
      "version": "3.9.10"
    },
    "colab": {
      "provenance": []
    }
  },
  "nbformat": 4,
  "nbformat_minor": 5
}